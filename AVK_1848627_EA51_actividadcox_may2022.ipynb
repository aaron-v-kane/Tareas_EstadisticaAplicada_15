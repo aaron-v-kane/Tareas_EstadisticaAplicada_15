{
 "cells": [
  {
   "cell_type": "markdown",
   "id": "a2e9518d",
   "metadata": {},
   "source": [
    "Aarón Villegas Kane\n",
    "\n",
    "1848627\n",
    "\n",
    "Estadística Aplicada\n",
    "\n",
    "G51"
   ]
  },
  {
   "cell_type": "code",
   "execution_count": 1,
   "id": "ad8ab74c",
   "metadata": {},
   "outputs": [],
   "source": [
    "import numpy as np\n",
    "import pandas as pd\n",
    "import seaborn as sns\n",
    "import matplotlib.pyplot as plt\n"
   ]
  },
  {
   "cell_type": "code",
   "execution_count": 2,
   "id": "e4fde501",
   "metadata": {
    "scrolled": true
   },
   "outputs": [
    {
     "name": "stdout",
     "output_type": "stream",
     "text": [
      "Collecting lifelines\n",
      "  Downloading lifelines-0.27.0-py3-none-any.whl (349 kB)\n",
      "Requirement already satisfied: matplotlib>=3.0 in c:\\users\\aaron\\anaconda3\\lib\\site-packages (from lifelines) (3.4.3)\n",
      "Collecting autograd>=1.3\n",
      "  Downloading autograd-1.4-py3-none-any.whl (48 kB)\n",
      "Requirement already satisfied: numpy>=1.14.0 in c:\\users\\aaron\\anaconda3\\lib\\site-packages (from lifelines) (1.20.3)\n",
      "Collecting formulaic>=0.2.2\n",
      "  Downloading formulaic-0.3.4-py3-none-any.whl (68 kB)\n",
      "Collecting autograd-gamma>=0.3\n",
      "  Downloading autograd-gamma-0.5.0.tar.gz (4.0 kB)\n",
      "Requirement already satisfied: scipy>=1.2.0 in c:\\users\\aaron\\anaconda3\\lib\\site-packages (from lifelines) (1.7.1)\n",
      "Requirement already satisfied: pandas>=1.0.0 in c:\\users\\aaron\\anaconda3\\lib\\site-packages (from lifelines) (1.3.4)\n",
      "Requirement already satisfied: future>=0.15.2 in c:\\users\\aaron\\anaconda3\\lib\\site-packages (from autograd>=1.3->lifelines) (0.18.2)\n",
      "Collecting astor>=0.8\n",
      "  Downloading astor-0.8.1-py2.py3-none-any.whl (27 kB)\n",
      "Requirement already satisfied: wrapt>=1.0 in c:\\users\\aaron\\anaconda3\\lib\\site-packages (from formulaic>=0.2.2->lifelines) (1.12.1)\n",
      "Collecting interface-meta<2.0.0,>=1.2.0\n",
      "  Downloading interface_meta-1.3.0-py3-none-any.whl (14 kB)\n",
      "Requirement already satisfied: python-dateutil>=2.7 in c:\\users\\aaron\\anaconda3\\lib\\site-packages (from matplotlib>=3.0->lifelines) (2.8.2)\n",
      "Requirement already satisfied: cycler>=0.10 in c:\\users\\aaron\\anaconda3\\lib\\site-packages (from matplotlib>=3.0->lifelines) (0.10.0)\n",
      "Requirement already satisfied: kiwisolver>=1.0.1 in c:\\users\\aaron\\anaconda3\\lib\\site-packages (from matplotlib>=3.0->lifelines) (1.3.1)\n",
      "Requirement already satisfied: pillow>=6.2.0 in c:\\users\\aaron\\anaconda3\\lib\\site-packages (from matplotlib>=3.0->lifelines) (8.4.0)\n",
      "Requirement already satisfied: pyparsing>=2.2.1 in c:\\users\\aaron\\anaconda3\\lib\\site-packages (from matplotlib>=3.0->lifelines) (3.0.4)\n",
      "Requirement already satisfied: six in c:\\users\\aaron\\anaconda3\\lib\\site-packages (from cycler>=0.10->matplotlib>=3.0->lifelines) (1.16.0)\n",
      "Requirement already satisfied: pytz>=2017.3 in c:\\users\\aaron\\anaconda3\\lib\\site-packages (from pandas>=1.0.0->lifelines) (2021.3)\n",
      "Building wheels for collected packages: autograd-gamma\n",
      "  Building wheel for autograd-gamma (setup.py): started\n",
      "  Building wheel for autograd-gamma (setup.py): finished with status 'done'\n",
      "  Created wheel for autograd-gamma: filename=autograd_gamma-0.5.0-py3-none-any.whl size=4049 sha256=57149937e98f832923b62ed19d2668af67643a51458be4cbefe46760d86deeeb\n",
      "  Stored in directory: c:\\users\\aaron\\appdata\\local\\pip\\cache\\wheels\\a8\\03\\64\\8557323821d25118c3a2dc1646996f7a962a8970d4b7d22473\n",
      "Successfully built autograd-gamma\n",
      "Installing collected packages: interface-meta, autograd, astor, formulaic, autograd-gamma, lifelines\n",
      "Successfully installed astor-0.8.1 autograd-1.4 autograd-gamma-0.5.0 formulaic-0.3.4 interface-meta-1.3.0 lifelines-0.27.0\n",
      "Note: you may need to restart the kernel to use updated packages.\n"
     ]
    }
   ],
   "source": [
    "pip install lifelines"
   ]
  },
  {
   "cell_type": "code",
   "execution_count": 3,
   "id": "752b9b16",
   "metadata": {},
   "outputs": [],
   "source": [
    "from lifelines import*"
   ]
  },
  {
   "cell_type": "code",
   "execution_count": 62,
   "id": "fd57f584",
   "metadata": {},
   "outputs": [],
   "source": [
    "df = pd.read_csv(\"https://raw.githubusercontent.com/aaron-v-kane/Tareas_EstadisticaAplicada_15/main/supervivencia_examenes.csv\")"
   ]
  },
  {
   "cell_type": "code",
   "execution_count": 53,
   "id": "462710e8",
   "metadata": {},
   "outputs": [
    {
     "name": "stderr",
     "output_type": "stream",
     "text": [
      "C:\\Users\\aaron\\AppData\\Local\\Temp/ipykernel_12944/3698961737.py:1: FutureWarning: Dropping of nuisance columns in DataFrame reductions (with 'numeric_only=None') is deprecated; in a future version this will raise TypeError.  Select only valid columns before calling the reduction.\n",
      "  df.mean()\n"
     ]
    },
    {
     "data": {
      "text/plain": [
       "id                9.000000\n",
       "tiempo          107.352941\n",
       "examen            1.000000\n",
       "calificación     90.705882\n",
       "dtype: float64"
      ]
     },
     "execution_count": 53,
     "metadata": {},
     "output_type": "execute_result"
    }
   ],
   "source": [
    "df.mean()"
   ]
  },
  {
   "cell_type": "code",
   "execution_count": 54,
   "id": "5467a7c5",
   "metadata": {},
   "outputs": [
    {
     "data": {
      "text/html": [
       "<div>\n",
       "<style scoped>\n",
       "    .dataframe tbody tr th:only-of-type {\n",
       "        vertical-align: middle;\n",
       "    }\n",
       "\n",
       "    .dataframe tbody tr th {\n",
       "        vertical-align: top;\n",
       "    }\n",
       "\n",
       "    .dataframe thead th {\n",
       "        text-align: right;\n",
       "    }\n",
       "</style>\n",
       "<table border=\"1\" class=\"dataframe\">\n",
       "  <thead>\n",
       "    <tr style=\"text-align: right;\">\n",
       "      <th></th>\n",
       "      <th>id</th>\n",
       "      <th>tiempo</th>\n",
       "      <th>examen</th>\n",
       "      <th>calificación</th>\n",
       "    </tr>\n",
       "    <tr>\n",
       "      <th>género</th>\n",
       "      <th></th>\n",
       "      <th></th>\n",
       "      <th></th>\n",
       "      <th></th>\n",
       "    </tr>\n",
       "  </thead>\n",
       "  <tbody>\n",
       "    <tr>\n",
       "      <th>f</th>\n",
       "      <td>8.750000</td>\n",
       "      <td>108.125000</td>\n",
       "      <td>1.0</td>\n",
       "      <td>93.000000</td>\n",
       "    </tr>\n",
       "    <tr>\n",
       "      <th>m</th>\n",
       "      <td>9.222222</td>\n",
       "      <td>106.666667</td>\n",
       "      <td>1.0</td>\n",
       "      <td>88.666667</td>\n",
       "    </tr>\n",
       "  </tbody>\n",
       "</table>\n",
       "</div>"
      ],
      "text/plain": [
       "              id      tiempo  examen  calificación\n",
       "género                                            \n",
       "f       8.750000  108.125000     1.0     93.000000\n",
       "m       9.222222  106.666667     1.0     88.666667"
      ]
     },
     "execution_count": 54,
     "metadata": {},
     "output_type": "execute_result"
    }
   ],
   "source": [
    "df.groupby('género').mean()"
   ]
  },
  {
   "cell_type": "markdown",
   "id": "bd1839b7",
   "metadata": {},
   "source": [
    "Los alumnos respondieron, en promedio, más rápido el examen, sin embargo, las alumnas obtuvieron mejor calificación."
   ]
  },
  {
   "cell_type": "code",
   "execution_count": 9,
   "id": "b4952160",
   "metadata": {},
   "outputs": [],
   "source": [
    "from lifelines import KaplanMeierFitter"
   ]
  },
  {
   "cell_type": "code",
   "execution_count": 11,
   "id": "e6f3fb99",
   "metadata": {},
   "outputs": [],
   "source": [
    "kmf = KaplanMeierFitter()"
   ]
  },
  {
   "cell_type": "code",
   "execution_count": 55,
   "id": "b6b7ee1c",
   "metadata": {},
   "outputs": [],
   "source": [
    "masc = df[df['género'] == 'm']\n",
    "fem = df[df['género'] == 'f']\n",
    "\n",
    "TM = masc['tiempo']\n",
    "CM = masc['calificación']\n",
    "EM = masc['examen']\n",
    "\n",
    "TF = fem['tiempo']\n",
    "CF = fem['calificación']\n",
    "EF = fem['examen']"
   ]
  },
  {
   "cell_type": "code",
   "execution_count": 56,
   "id": "91f6606e",
   "metadata": {},
   "outputs": [
    {
     "data": {
      "text/html": [
       "<div>\n",
       "<style scoped>\n",
       "    .dataframe tbody tr th:only-of-type {\n",
       "        vertical-align: middle;\n",
       "    }\n",
       "\n",
       "    .dataframe tbody tr th {\n",
       "        vertical-align: top;\n",
       "    }\n",
       "\n",
       "    .dataframe thead th {\n",
       "        text-align: right;\n",
       "    }\n",
       "</style>\n",
       "<table border=\"1\" class=\"dataframe\">\n",
       "  <thead>\n",
       "    <tr style=\"text-align: right;\">\n",
       "      <th></th>\n",
       "      <th>df</th>\n",
       "    </tr>\n",
       "    <tr>\n",
       "      <th>timeline</th>\n",
       "      <th></th>\n",
       "    </tr>\n",
       "  </thead>\n",
       "  <tbody>\n",
       "    <tr>\n",
       "      <th>0.0</th>\n",
       "      <td>1.000000</td>\n",
       "    </tr>\n",
       "    <tr>\n",
       "      <th>85.0</th>\n",
       "      <td>0.941176</td>\n",
       "    </tr>\n",
       "    <tr>\n",
       "      <th>87.0</th>\n",
       "      <td>0.882353</td>\n",
       "    </tr>\n",
       "    <tr>\n",
       "      <th>90.0</th>\n",
       "      <td>0.823529</td>\n",
       "    </tr>\n",
       "    <tr>\n",
       "      <th>99.0</th>\n",
       "      <td>0.764706</td>\n",
       "    </tr>\n",
       "    <tr>\n",
       "      <th>103.0</th>\n",
       "      <td>0.705882</td>\n",
       "    </tr>\n",
       "    <tr>\n",
       "      <th>106.0</th>\n",
       "      <td>0.647059</td>\n",
       "    </tr>\n",
       "    <tr>\n",
       "      <th>108.0</th>\n",
       "      <td>0.529412</td>\n",
       "    </tr>\n",
       "    <tr>\n",
       "      <th>109.0</th>\n",
       "      <td>0.470588</td>\n",
       "    </tr>\n",
       "    <tr>\n",
       "      <th>111.0</th>\n",
       "      <td>0.411765</td>\n",
       "    </tr>\n",
       "    <tr>\n",
       "      <th>112.0</th>\n",
       "      <td>0.352941</td>\n",
       "    </tr>\n",
       "    <tr>\n",
       "      <th>115.0</th>\n",
       "      <td>0.294118</td>\n",
       "    </tr>\n",
       "    <tr>\n",
       "      <th>116.0</th>\n",
       "      <td>0.235294</td>\n",
       "    </tr>\n",
       "    <tr>\n",
       "      <th>118.0</th>\n",
       "      <td>0.176471</td>\n",
       "    </tr>\n",
       "    <tr>\n",
       "      <th>119.0</th>\n",
       "      <td>0.058824</td>\n",
       "    </tr>\n",
       "    <tr>\n",
       "      <th>120.0</th>\n",
       "      <td>0.000000</td>\n",
       "    </tr>\n",
       "  </tbody>\n",
       "</table>\n",
       "</div>"
      ],
      "text/plain": [
       "                df\n",
       "timeline          \n",
       "0.0       1.000000\n",
       "85.0      0.941176\n",
       "87.0      0.882353\n",
       "90.0      0.823529\n",
       "99.0      0.764706\n",
       "103.0     0.705882\n",
       "106.0     0.647059\n",
       "108.0     0.529412\n",
       "109.0     0.470588\n",
       "111.0     0.411765\n",
       "112.0     0.352941\n",
       "115.0     0.294118\n",
       "116.0     0.235294\n",
       "118.0     0.176471\n",
       "119.0     0.058824\n",
       "120.0     0.000000"
      ]
     },
     "execution_count": 56,
     "metadata": {},
     "output_type": "execute_result"
    },
    {
     "data": {
      "image/png": "[encoded data removed]",
      "text/plain": [
       "<Figure size 432x288 with 1 Axes>"
      ]
     },
     "metadata": {
      "needs_background": "light"
     },
     "output_type": "display_data"
    }
   ],
   "source": [
    "#todos\n",
    "kmf.fit(df['tiempo'], df['examen'], label = \"df\").plot()\n",
    "kmf.survival_function_"
   ]
  },
  {
   "cell_type": "code",
   "execution_count": 57,
   "id": "b2a7dc27",
   "metadata": {},
   "outputs": [
    {
     "data": {
      "text/html": [
       "<div>\n",
       "<style scoped>\n",
       "    .dataframe tbody tr th:only-of-type {\n",
       "        vertical-align: middle;\n",
       "    }\n",
       "\n",
       "    .dataframe tbody tr th {\n",
       "        vertical-align: top;\n",
       "    }\n",
       "\n",
       "    .dataframe thead th {\n",
       "        text-align: right;\n",
       "    }\n",
       "</style>\n",
       "<table border=\"1\" class=\"dataframe\">\n",
       "  <thead>\n",
       "    <tr style=\"text-align: right;\">\n",
       "      <th></th>\n",
       "      <th>df_lower_0.95</th>\n",
       "      <th>df_upper_0.95</th>\n",
       "    </tr>\n",
       "  </thead>\n",
       "  <tbody>\n",
       "    <tr>\n",
       "      <th>0.0</th>\n",
       "      <td>1.000000</td>\n",
       "      <td>1.000000</td>\n",
       "    </tr>\n",
       "    <tr>\n",
       "      <th>85.0</th>\n",
       "      <td>0.650179</td>\n",
       "      <td>0.991499</td>\n",
       "    </tr>\n",
       "    <tr>\n",
       "      <th>87.0</th>\n",
       "      <td>0.605979</td>\n",
       "      <td>0.969209</td>\n",
       "    </tr>\n",
       "    <tr>\n",
       "      <th>90.0</th>\n",
       "      <td>0.547132</td>\n",
       "      <td>0.939405</td>\n",
       "    </tr>\n",
       "    <tr>\n",
       "      <th>99.0</th>\n",
       "      <td>0.488278</td>\n",
       "      <td>0.904486</td>\n",
       "    </tr>\n",
       "    <tr>\n",
       "      <th>103.0</th>\n",
       "      <td>0.431478</td>\n",
       "      <td>0.865599</td>\n",
       "    </tr>\n",
       "    <tr>\n",
       "      <th>106.0</th>\n",
       "      <td>0.377147</td>\n",
       "      <td>0.823381</td>\n",
       "    </tr>\n",
       "    <tr>\n",
       "      <th>108.0</th>\n",
       "      <td>0.276168</td>\n",
       "      <td>0.730267</td>\n",
       "    </tr>\n",
       "    <tr>\n",
       "      <th>109.0</th>\n",
       "      <td>0.229598</td>\n",
       "      <td>0.679678</td>\n",
       "    </tr>\n",
       "    <tr>\n",
       "      <th>111.0</th>\n",
       "      <td>0.185759</td>\n",
       "      <td>0.626432</td>\n",
       "    </tr>\n",
       "    <tr>\n",
       "      <th>112.0</th>\n",
       "      <td>0.144835</td>\n",
       "      <td>0.570437</td>\n",
       "    </tr>\n",
       "    <tr>\n",
       "      <th>115.0</th>\n",
       "      <td>0.107120</td>\n",
       "      <td>0.511485</td>\n",
       "    </tr>\n",
       "    <tr>\n",
       "      <th>116.0</th>\n",
       "      <td>0.073083</td>\n",
       "      <td>0.449218</td>\n",
       "    </tr>\n",
       "    <tr>\n",
       "      <th>118.0</th>\n",
       "      <td>0.043478</td>\n",
       "      <td>0.383043</td>\n",
       "    </tr>\n",
       "    <tr>\n",
       "      <th>119.0</th>\n",
       "      <td>0.003915</td>\n",
       "      <td>0.235005</td>\n",
       "    </tr>\n",
       "    <tr>\n",
       "      <th>120.0</th>\n",
       "      <td>0.000000</td>\n",
       "      <td>0.000000</td>\n",
       "    </tr>\n",
       "  </tbody>\n",
       "</table>\n",
       "</div>"
      ],
      "text/plain": [
       "       df_lower_0.95  df_upper_0.95\n",
       "0.0         1.000000       1.000000\n",
       "85.0        0.650179       0.991499\n",
       "87.0        0.605979       0.969209\n",
       "90.0        0.547132       0.939405\n",
       "99.0        0.488278       0.904486\n",
       "103.0       0.431478       0.865599\n",
       "106.0       0.377147       0.823381\n",
       "108.0       0.276168       0.730267\n",
       "109.0       0.229598       0.679678\n",
       "111.0       0.185759       0.626432\n",
       "112.0       0.144835       0.570437\n",
       "115.0       0.107120       0.511485\n",
       "116.0       0.073083       0.449218\n",
       "118.0       0.043478       0.383043\n",
       "119.0       0.003915       0.235005\n",
       "120.0       0.000000       0.000000"
      ]
     },
     "execution_count": 57,
     "metadata": {},
     "output_type": "execute_result"
    }
   ],
   "source": [
    "kmf.fit(df['tiempo'], df['examen'], label = \"df\")\n",
    "kmf.confidence_interval_"
   ]
  },
  {
   "cell_type": "code",
   "execution_count": 58,
   "id": "8cd54bcc",
   "metadata": {},
   "outputs": [
    {
     "data": {
      "image/png": "[encoded data removed]",
      "text/plain": [
       "<Figure size 432x288 with 1 Axes>"
      ]
     },
     "metadata": {
      "needs_background": "light"
     },
     "output_type": "display_data"
    }
   ],
   "source": [
    "#separado\n",
    "ax = plt.subplot(111)\n",
    "ax = kmf.fit(TM, EM, label = \"masc\").plot(ax=ax)\n",
    "ax = kmf.fit(TF, EF, label = \"fem\").plot(ax=ax)"
   ]
  },
  {
   "cell_type": "markdown",
   "id": "9f713a9c",
   "metadata": {},
   "source": [
    "Dado que ambos graficos se entrelazan una cantidad considerable, parece ser que no hay evidencia suficiente como para decire que las alumnas responden más rápido."
   ]
  },
  {
   "cell_type": "code",
   "execution_count": 33,
   "id": "790eaeb4",
   "metadata": {},
   "outputs": [],
   "source": [
    "from lifelines.statistics import logrank_test"
   ]
  },
  {
   "cell_type": "code",
   "execution_count": 59,
   "id": "617204a2",
   "metadata": {},
   "outputs": [
    {
     "data": {
      "text/html": [
       "<div>\n",
       "<style scoped>\n",
       "    .dataframe tbody tr th:only-of-type {\n",
       "        vertical-align: middle;\n",
       "    }\n",
       "\n",
       "    .dataframe tbody tr th {\n",
       "        vertical-align: top;\n",
       "    }\n",
       "\n",
       "    .dataframe thead th {\n",
       "        text-align: right;\n",
       "    }\n",
       "</style>\n",
       "<table border=\"1\" class=\"dataframe\">\n",
       "  <tbody>\n",
       "    <tr>\n",
       "      <th>t_0</th>\n",
       "      <td>-1</td>\n",
       "    </tr>\n",
       "    <tr>\n",
       "      <th>null_distribution</th>\n",
       "      <td>chi squared</td>\n",
       "    </tr>\n",
       "    <tr>\n",
       "      <th>degrees_of_freedom</th>\n",
       "      <td>1</td>\n",
       "    </tr>\n",
       "    <tr>\n",
       "      <th>test_name</th>\n",
       "      <td>logrank_test</td>\n",
       "    </tr>\n",
       "  </tbody>\n",
       "</table>\n",
       "</div><table border=\"1\" class=\"dataframe\">\n",
       "  <thead>\n",
       "    <tr style=\"text-align: right;\">\n",
       "      <th></th>\n",
       "      <th>test_statistic</th>\n",
       "      <th>p</th>\n",
       "      <th>-log2(p)</th>\n",
       "    </tr>\n",
       "  </thead>\n",
       "  <tbody>\n",
       "    <tr>\n",
       "      <th>0</th>\n",
       "      <td>0.15</td>\n",
       "      <td>0.69</td>\n",
       "      <td>0.53</td>\n",
       "    </tr>\n",
       "  </tbody>\n",
       "</table>"
      ],
      "text/latex": [
       "\\begin{tabular}{lrrr}\n",
       "\\toprule\n",
       "{} &  test\\_statistic &         p &  -log2(p) \\\\\n",
       "\\midrule\n",
       "0 &        0.153807 &  0.694924 &  0.525074 \\\\\n",
       "\\bottomrule\n",
       "\\end{tabular}\n"
      ],
      "text/plain": [
       "<lifelines.StatisticalResult: logrank_test>\n",
       "               t_0 = -1\n",
       " null_distribution = chi squared\n",
       "degrees_of_freedom = 1\n",
       "         test_name = logrank_test\n",
       "\n",
       "---\n",
       " test_statistic    p  -log2(p)\n",
       "           0.15 0.69      0.53"
      ]
     },
     "metadata": {},
     "output_type": "display_data"
    }
   ],
   "source": [
    "results = logrank_test(TM, TF, event_observed_A = EM, event_observed_B = EF)\n",
    "results.print_summary()"
   ]
  },
  {
   "cell_type": "markdown",
   "id": "be9b5217",
   "metadata": {},
   "source": [
    "Como p-valor > alfa, no rechazamos H0, por lo que hay evidencia estadística suficiente para decir que las alumnas no contestan más rápido."
   ]
  },
  {
   "cell_type": "code",
   "execution_count": 35,
   "id": "221a1c14",
   "metadata": {},
   "outputs": [],
   "source": [
    "from lifelines import CoxPHFitter"
   ]
  },
  {
   "cell_type": "code",
   "execution_count": 65,
   "id": "7210e824",
   "metadata": {},
   "outputs": [],
   "source": [
    "#cambiar datos de columna género de m,f a 1,0\n",
    "#m = 1; f = 0\n",
    "df[\"género\"] = np.where(df[\"género\"] == \"f\", 0, 1)"
   ]
  },
  {
   "cell_type": "code",
   "execution_count": 67,
   "id": "89a7c92f",
   "metadata": {},
   "outputs": [
    {
     "data": {
      "text/plain": [
       "<lifelines.CoxPHFitter: fitted with 17 total observations, 0 right-censored observations>"
      ]
     },
     "execution_count": 67,
     "metadata": {},
     "output_type": "execute_result"
    }
   ],
   "source": [
    "cph = CoxPHFitter()\n",
    "cph.fit(df, duration_col='tiempo', event_col='examen')"
   ]
  },
  {
   "cell_type": "code",
   "execution_count": 68,
   "id": "82029afe",
   "metadata": {},
   "outputs": [
    {
     "data": {
      "text/html": [
       "<div>\n",
       "<style scoped>\n",
       "    .dataframe tbody tr th:only-of-type {\n",
       "        vertical-align: middle;\n",
       "    }\n",
       "\n",
       "    .dataframe tbody tr th {\n",
       "        vertical-align: top;\n",
       "    }\n",
       "\n",
       "    .dataframe thead th {\n",
       "        text-align: right;\n",
       "    }\n",
       "</style>\n",
       "<table border=\"1\" class=\"dataframe\">\n",
       "  <tbody>\n",
       "    <tr>\n",
       "      <th>model</th>\n",
       "      <td>lifelines.CoxPHFitter</td>\n",
       "    </tr>\n",
       "    <tr>\n",
       "      <th>duration col</th>\n",
       "      <td>'tiempo'</td>\n",
       "    </tr>\n",
       "    <tr>\n",
       "      <th>event col</th>\n",
       "      <td>'examen'</td>\n",
       "    </tr>\n",
       "    <tr>\n",
       "      <th>baseline estimation</th>\n",
       "      <td>breslow</td>\n",
       "    </tr>\n",
       "    <tr>\n",
       "      <th>number of observations</th>\n",
       "      <td>17</td>\n",
       "    </tr>\n",
       "    <tr>\n",
       "      <th>number of events observed</th>\n",
       "      <td>17</td>\n",
       "    </tr>\n",
       "    <tr>\n",
       "      <th>partial log-likelihood</th>\n",
       "      <td>-33.31</td>\n",
       "    </tr>\n",
       "    <tr>\n",
       "      <th>time fit was run</th>\n",
       "      <td>2022-05-08 21:45:38 UTC</td>\n",
       "    </tr>\n",
       "  </tbody>\n",
       "</table>\n",
       "</div><table border=\"1\" class=\"dataframe\">\n",
       "  <thead>\n",
       "    <tr style=\"text-align: right;\">\n",
       "      <th style=\"min-width: 12px;\"></th>\n",
       "      <th style=\"min-width: 12px;\">coef</th>\n",
       "      <th style=\"min-width: 12px;\">exp(coef)</th>\n",
       "      <th style=\"min-width: 12px;\">se(coef)</th>\n",
       "      <th style=\"min-width: 12px;\">coef lower 95%</th>\n",
       "      <th style=\"min-width: 12px;\">coef upper 95%</th>\n",
       "      <th style=\"min-width: 12px;\">exp(coef) lower 95%</th>\n",
       "      <th style=\"min-width: 12px;\">exp(coef) upper 95%</th>\n",
       "      <th style=\"min-width: 12px;\">cmp to</th>\n",
       "      <th style=\"min-width: 12px;\">z</th>\n",
       "      <th style=\"min-width: 12px;\">p</th>\n",
       "      <th style=\"min-width: 12px;\">-log2(p)</th>\n",
       "    </tr>\n",
       "  </thead>\n",
       "  <tbody>\n",
       "    <tr>\n",
       "      <th>id</th>\n",
       "      <td>0.10</td>\n",
       "      <td>1.10</td>\n",
       "      <td>0.24</td>\n",
       "      <td>-0.36</td>\n",
       "      <td>0.56</td>\n",
       "      <td>0.70</td>\n",
       "      <td>1.75</td>\n",
       "      <td>0.00</td>\n",
       "      <td>0.42</td>\n",
       "      <td>0.67</td>\n",
       "      <td>0.57</td>\n",
       "    </tr>\n",
       "    <tr>\n",
       "      <th>calificación</th>\n",
       "      <td>0.06</td>\n",
       "      <td>1.06</td>\n",
       "      <td>0.13</td>\n",
       "      <td>-0.19</td>\n",
       "      <td>0.30</td>\n",
       "      <td>0.83</td>\n",
       "      <td>1.36</td>\n",
       "      <td>0.00</td>\n",
       "      <td>0.47</td>\n",
       "      <td>0.64</td>\n",
       "      <td>0.64</td>\n",
       "    </tr>\n",
       "    <tr>\n",
       "      <th>género</th>\n",
       "      <td>0.50</td>\n",
       "      <td>1.66</td>\n",
       "      <td>0.80</td>\n",
       "      <td>-1.07</td>\n",
       "      <td>2.08</td>\n",
       "      <td>0.34</td>\n",
       "      <td>7.99</td>\n",
       "      <td>0.00</td>\n",
       "      <td>0.63</td>\n",
       "      <td>0.53</td>\n",
       "      <td>0.92</td>\n",
       "    </tr>\n",
       "  </tbody>\n",
       "</table><br><div>\n",
       "<style scoped>\n",
       "    .dataframe tbody tr th:only-of-type {\n",
       "        vertical-align: middle;\n",
       "    }\n",
       "\n",
       "    .dataframe tbody tr th {\n",
       "        vertical-align: top;\n",
       "    }\n",
       "\n",
       "    .dataframe thead th {\n",
       "        text-align: right;\n",
       "    }\n",
       "</style>\n",
       "<table border=\"1\" class=\"dataframe\">\n",
       "  <tbody>\n",
       "    <tr>\n",
       "      <th>Concordance</th>\n",
       "      <td>0.51</td>\n",
       "    </tr>\n",
       "    <tr>\n",
       "      <th>Partial AIC</th>\n",
       "      <td>72.61</td>\n",
       "    </tr>\n",
       "    <tr>\n",
       "      <th>log-likelihood ratio test</th>\n",
       "      <td>0.40 on 3 df</td>\n",
       "    </tr>\n",
       "    <tr>\n",
       "      <th>-log2(p) of ll-ratio test</th>\n",
       "      <td>0.09</td>\n",
       "    </tr>\n",
       "  </tbody>\n",
       "</table>\n",
       "</div>"
      ],
      "text/latex": [
       "\\begin{tabular}{lrrrrrrrrrrr}\n",
       "\\toprule\n",
       "{} &  coef &  exp(coef) &  se(coef) &  coef lower 95\\% &  coef upper 95\\% &  exp(coef) lower 95\\% &  exp(coef) upper 95\\% &  cmp to &    z &    p &  -log2(p) \\\\\n",
       "covariate    &       &            &           &                 &                 &                      &                      &         &      &      &           \\\\\n",
       "\\midrule\n",
       "id           &  0.10 &       1.10 &      0.24 &           -0.36 &            0.56 &                 0.70 &                 1.75 &    0.00 & 0.42 & 0.67 &      0.57 \\\\\n",
       "calificación &  0.06 &       1.06 &      0.13 &           -0.19 &            0.30 &                 0.83 &                 1.36 &    0.00 & 0.47 & 0.64 &      0.64 \\\\\n",
       "género       &  0.50 &       1.66 &      0.80 &           -1.07 &            2.08 &                 0.34 &                 7.99 &    0.00 & 0.63 & 0.53 &      0.92 \\\\\n",
       "\\bottomrule\n",
       "\\end{tabular}\n"
      ],
      "text/plain": [
       "<lifelines.CoxPHFitter: fitted with 17 total observations, 0 right-censored observations>\n",
       "             duration col = 'tiempo'\n",
       "                event col = 'examen'\n",
       "      baseline estimation = breslow\n",
       "   number of observations = 17\n",
       "number of events observed = 17\n",
       "   partial log-likelihood = -33.31\n",
       "         time fit was run = 2022-05-08 21:45:38 UTC\n",
       "\n",
       "---\n",
       "               coef  exp(coef)   se(coef)   coef lower 95%   coef upper 95%  exp(coef) lower 95%  exp(coef) upper 95%\n",
       "covariate                                                                                                            \n",
       "id             0.10       1.10       0.24            -0.36             0.56                 0.70                 1.75\n",
       "calificación   0.06       1.06       0.13            -0.19             0.30                 0.83                 1.36\n",
       "género         0.50       1.66       0.80            -1.07             2.08                 0.34                 7.99\n",
       "\n",
       "               cmp to    z    p   -log2(p)\n",
       "covariate                                 \n",
       "id               0.00 0.42 0.67       0.57\n",
       "calificación     0.00 0.47 0.64       0.64\n",
       "género           0.00 0.63 0.53       0.92\n",
       "---\n",
       "Concordance = 0.51\n",
       "Partial AIC = 72.61\n",
       "log-likelihood ratio test = 0.40 on 3 df\n",
       "-log2(p) of ll-ratio test = 0.09"
      ]
     },
     "metadata": {},
     "output_type": "display_data"
    }
   ],
   "source": [
    "cph.print_summary()"
   ]
  },
  {
   "cell_type": "code",
   "execution_count": 69,
   "id": "c5ef88e0",
   "metadata": {},
   "outputs": [
    {
     "data": {
      "text/plain": [
       "<AxesSubplot:xlabel='log(HR) (95% CI)'>"
      ]
     },
     "execution_count": 69,
     "metadata": {},
     "output_type": "execute_result"
    },
    {
     "data": {
      "image/png": "[encoded data removed]",
      "text/plain": [
       "<Figure size 432x288 with 1 Axes>"
      ]
     },
     "metadata": {
      "needs_background": "light"
     },
     "output_type": "display_data"
    }
   ],
   "source": [
    "cph.plot()"
   ]
  },
  {
   "cell_type": "markdown",
   "id": "bcb8827b",
   "metadata": {},
   "source": [
    "Dado que los coeficientes de calificación, así como los de género, tienen p-valor > alfa, no se rechaza H0; de tal manera que estos no son significativos, por lo que podemos decir que ni el género ni la calificación influyen en el evento (entregar el examen)."
   ]
  }
 ],
 "metadata": {
  "kernelspec": {
   "display_name": "Python 3 (ipykernel)",
   "language": "python",
   "name": "python3"
  },
  "language_info": {
   "codemirror_mode": {
    "name": "ipython",
    "version": 3
   },
   "file_extension": ".py",
   "mimetype": "text/x-python",
   "name": "python",
   "nbconvert_exporter": "python",
   "pygments_lexer": "ipython3",
   "version": "3.9.7"
  }
 },
 "nbformat": 4,
 "nbformat_minor": 5
}
