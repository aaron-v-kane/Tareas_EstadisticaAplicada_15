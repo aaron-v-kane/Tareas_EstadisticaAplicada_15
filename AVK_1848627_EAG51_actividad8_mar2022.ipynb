{
 "cells": [
  {
   "cell_type": "markdown",
   "id": "ae5706e5-c78e-4d3f-a8c0-a0d05a34ceec",
   "metadata": {},
   "source": [
    "# pronóstico de series de tiempo"
   ]
  },
  {
   "cell_type": "markdown",
   "id": "fbab081d-9ddf-49c4-9dbf-991046695b65",
   "metadata": {},
   "source": [
    "En esta notebook vamos a realizar el pronóstico de una serie de tiempo\n",
    "1. Descargaremos los datos\n",
    "2. Graficaremos la series para darnos una idea de su comportamiento\n",
    "3. realizaremos una prueba de raíz unitaria para comprobrar si la serie es estacionaria\n",
    "4. Diferenciaremos la serie en caso de que no sea estacionaria\n",
    "5. Realizamos la prueba a la serie diferenciada para ver si es estacionaria\n",
    "6. Graficaremos la serie estacionaria\n",
    "7. realizaremos su ACF y PACF para tratar de identificar que tipo de proceso es MA(q), AR(P), ARMA(p,q), etc\n",
    "8. Estimamos distintos modelos\n",
    "9. Elegimos el modelo\n",
    "10. Realizamos el pronóstico "
   ]
  },
  {
   "cell_type": "code",
   "execution_count": 2,
   "id": "e8f39132",
   "metadata": {},
   "outputs": [
    {
     "name": "stdout",
     "output_type": "stream",
     "text": [
      "Collecting yfinance\n",
      "  Downloading yfinance-0.1.70-py2.py3-none-any.whl (26 kB)\n",
      "Collecting multitasking>=0.0.7\n",
      "  Downloading multitasking-0.0.10.tar.gz (8.2 kB)\n",
      "Requirement already satisfied: lxml>=4.5.1 in c:\\users\\aaron\\anaconda3\\lib\\site-packages (from yfinance) (4.6.3)\n",
      "Requirement already satisfied: requests>=2.26 in c:\\users\\aaron\\anaconda3\\lib\\site-packages (from yfinance) (2.26.0)\n",
      "Requirement already satisfied: pandas>=0.24.0 in c:\\users\\aaron\\anaconda3\\lib\\site-packages (from yfinance) (1.3.4)\n",
      "Requirement already satisfied: numpy>=1.15 in c:\\users\\aaron\\anaconda3\\lib\\site-packages (from yfinance) (1.20.3)\n",
      "Requirement already satisfied: pytz>=2017.3 in c:\\users\\aaron\\anaconda3\\lib\\site-packages (from pandas>=0.24.0->yfinance) (2021.3)\n",
      "Requirement already satisfied: python-dateutil>=2.7.3 in c:\\users\\aaron\\anaconda3\\lib\\site-packages (from pandas>=0.24.0->yfinance) (2.8.2)\n",
      "Requirement already satisfied: six>=1.5 in c:\\users\\aaron\\anaconda3\\lib\\site-packages (from python-dateutil>=2.7.3->pandas>=0.24.0->yfinance) (1.16.0)\n",
      "Requirement already satisfied: idna<4,>=2.5 in c:\\users\\aaron\\anaconda3\\lib\\site-packages (from requests>=2.26->yfinance) (3.2)\n",
      "Requirement already satisfied: charset-normalizer~=2.0.0 in c:\\users\\aaron\\anaconda3\\lib\\site-packages (from requests>=2.26->yfinance) (2.0.4)\n",
      "Requirement already satisfied: certifi>=2017.4.17 in c:\\users\\aaron\\anaconda3\\lib\\site-packages (from requests>=2.26->yfinance) (2021.10.8)\n",
      "Requirement already satisfied: urllib3<1.27,>=1.21.1 in c:\\users\\aaron\\anaconda3\\lib\\site-packages (from requests>=2.26->yfinance) (1.26.7)\n",
      "Building wheels for collected packages: multitasking\n",
      "  Building wheel for multitasking (setup.py): started\n",
      "  Building wheel for multitasking (setup.py): finished with status 'done'\n",
      "  Created wheel for multitasking: filename=multitasking-0.0.10-py3-none-any.whl size=8500 sha256=aa6b1b04706522d08a3c963d988e428f14eb3e265d0124111c297f36c3f1ca84\n",
      "  Stored in directory: c:\\users\\aaron\\appdata\\local\\pip\\cache\\wheels\\f2\\b5\\2c\\59ba95dcf854e542944c75fe3da584e4e3833b319735a0546c\n",
      "Successfully built multitasking\n",
      "Installing collected packages: multitasking, yfinance\n",
      "Successfully installed multitasking-0.0.10 yfinance-0.1.70\n",
      "Note: you may need to restart the kernel to use updated packages.\n"
     ]
    }
   ],
   "source": [
    "pip install yfinance"
   ]
  },
  {
   "cell_type": "code",
   "execution_count": 3,
   "id": "33df1691-3fef-405f-8a39-8377ec72c594",
   "metadata": {},
   "outputs": [
    {
     "name": "stderr",
     "output_type": "stream",
     "text": [
      "Matplotlib is building the font cache; this may take a moment.\n"
     ]
    }
   ],
   "source": [
    "# como siempre comenzamos importando las librerias\n",
    "import numpy as np\n",
    "import pandas as pd \n",
    "import yfinance as yf\n",
    "import scipy.stats as stats\n",
    "import matplotlib.pyplot as plt\n",
    "from statsmodels.graphics.tsaplots import plot_acf\n",
    "from statsmodels.graphics.tsaplots import plot_pacf\n",
    "from statsmodels.tsa.stattools import acf\n",
    "from statsmodels.tsa.stattools import pacf\n",
    "from statsmodels.tsa.stattools import adfuller\n",
    "from statsmodels.tsa.arima_process import ArmaProcess\n",
    "from statsmodels.tsa.arima.model import ARIMA\n",
    "\n",
    "\n",
    "%matplotlib inline"
   ]
  },
  {
   "cell_type": "code",
   "execution_count": 4,
   "id": "9d02ce75-4fb9-4d71-b094-057ed1d71d7d",
   "metadata": {},
   "outputs": [],
   "source": [
    "#fijamos tamaño de graficas\n",
    "plt.rcParams['figure.figsize'] = [10, 7.5]"
   ]
  },
  {
   "cell_type": "markdown",
   "id": "d6b3e9aa-b042-442d-9620-6cc1ff4fc407",
   "metadata": {},
   "source": [
    "## 1. Importamos los datos desde la api de yahoo finance"
   ]
  },
  {
   "cell_type": "markdown",
   "id": "cbd85856-0cbd-4289-bb3a-0c2ebf23c47d",
   "metadata": {},
   "source": [
    "en mi caso yo voy a utilizar las acciones de walmart de México y voy a utilizar la información de los ultimos dos años hasta el día viernes, que es cuando estuvo abierta la bolsa"
   ]
  },
  {
   "cell_type": "code",
   "execution_count": 5,
   "id": "b0f5c7b1-c26e-46bd-90da-f9d3f8983bfd",
   "metadata": {},
   "outputs": [],
   "source": [
    "#recuerda instalar yahoo finance con-> pip install yfinance\n",
    "intel = yf.download('INTC', \n",
    "                       start='2019-09-01', \n",
    "                       end='2022-03-12',\n",
    "                       progress=False)"
   ]
  },
  {
   "cell_type": "code",
   "execution_count": 7,
   "id": "9c7f1aec-6ca7-477f-9699-5467054b0934",
   "metadata": {},
   "outputs": [
    {
     "data": {
      "text/html": [
       "<div>\n",
       "<style scoped>\n",
       "    .dataframe tbody tr th:only-of-type {\n",
       "        vertical-align: middle;\n",
       "    }\n",
       "\n",
       "    .dataframe tbody tr th {\n",
       "        vertical-align: top;\n",
       "    }\n",
       "\n",
       "    .dataframe thead th {\n",
       "        text-align: right;\n",
       "    }\n",
       "</style>\n",
       "<table border=\"1\" class=\"dataframe\">\n",
       "  <thead>\n",
       "    <tr style=\"text-align: right;\">\n",
       "      <th></th>\n",
       "      <th>Open</th>\n",
       "      <th>High</th>\n",
       "      <th>Low</th>\n",
       "      <th>Close</th>\n",
       "      <th>Adj Close</th>\n",
       "      <th>Volume</th>\n",
       "    </tr>\n",
       "    <tr>\n",
       "      <th>Date</th>\n",
       "      <th></th>\n",
       "      <th></th>\n",
       "      <th></th>\n",
       "      <th></th>\n",
       "      <th></th>\n",
       "      <th></th>\n",
       "    </tr>\n",
       "  </thead>\n",
       "  <tbody>\n",
       "    <tr>\n",
       "      <th>2022-02-28</th>\n",
       "      <td>47.000000</td>\n",
       "      <td>47.820000</td>\n",
       "      <td>46.849998</td>\n",
       "      <td>47.700001</td>\n",
       "      <td>47.700001</td>\n",
       "      <td>41920000</td>\n",
       "    </tr>\n",
       "    <tr>\n",
       "      <th>2022-03-01</th>\n",
       "      <td>47.540001</td>\n",
       "      <td>47.900002</td>\n",
       "      <td>46.220001</td>\n",
       "      <td>46.820000</td>\n",
       "      <td>46.820000</td>\n",
       "      <td>53853000</td>\n",
       "    </tr>\n",
       "    <tr>\n",
       "      <th>2022-03-02</th>\n",
       "      <td>47.520000</td>\n",
       "      <td>48.990002</td>\n",
       "      <td>47.480000</td>\n",
       "      <td>48.869999</td>\n",
       "      <td>48.869999</td>\n",
       "      <td>46936500</td>\n",
       "    </tr>\n",
       "    <tr>\n",
       "      <th>2022-03-03</th>\n",
       "      <td>48.180000</td>\n",
       "      <td>48.549999</td>\n",
       "      <td>47.619999</td>\n",
       "      <td>47.930000</td>\n",
       "      <td>47.930000</td>\n",
       "      <td>36389900</td>\n",
       "    </tr>\n",
       "    <tr>\n",
       "      <th>2022-03-04</th>\n",
       "      <td>47.369999</td>\n",
       "      <td>48.270000</td>\n",
       "      <td>47.369999</td>\n",
       "      <td>48.070000</td>\n",
       "      <td>48.070000</td>\n",
       "      <td>38310700</td>\n",
       "    </tr>\n",
       "    <tr>\n",
       "      <th>2022-03-07</th>\n",
       "      <td>48.009998</td>\n",
       "      <td>48.540001</td>\n",
       "      <td>47.599998</td>\n",
       "      <td>47.680000</td>\n",
       "      <td>47.680000</td>\n",
       "      <td>43813700</td>\n",
       "    </tr>\n",
       "    <tr>\n",
       "      <th>2022-03-08</th>\n",
       "      <td>47.689999</td>\n",
       "      <td>48.720001</td>\n",
       "      <td>46.889999</td>\n",
       "      <td>47.500000</td>\n",
       "      <td>47.500000</td>\n",
       "      <td>44813900</td>\n",
       "    </tr>\n",
       "    <tr>\n",
       "      <th>2022-03-09</th>\n",
       "      <td>48.410000</td>\n",
       "      <td>48.459999</td>\n",
       "      <td>46.889999</td>\n",
       "      <td>47.630001</td>\n",
       "      <td>47.630001</td>\n",
       "      <td>36076500</td>\n",
       "    </tr>\n",
       "    <tr>\n",
       "      <th>2022-03-10</th>\n",
       "      <td>47.290001</td>\n",
       "      <td>47.310001</td>\n",
       "      <td>46.160000</td>\n",
       "      <td>46.660000</td>\n",
       "      <td>46.660000</td>\n",
       "      <td>36456000</td>\n",
       "    </tr>\n",
       "    <tr>\n",
       "      <th>2022-03-11</th>\n",
       "      <td>47.150002</td>\n",
       "      <td>47.279999</td>\n",
       "      <td>45.770000</td>\n",
       "      <td>45.830002</td>\n",
       "      <td>45.830002</td>\n",
       "      <td>27071400</td>\n",
       "    </tr>\n",
       "  </tbody>\n",
       "</table>\n",
       "</div>"
      ],
      "text/plain": [
       "                 Open       High        Low      Close  Adj Close    Volume\n",
       "Date                                                                       \n",
       "2022-02-28  47.000000  47.820000  46.849998  47.700001  47.700001  41920000\n",
       "2022-03-01  47.540001  47.900002  46.220001  46.820000  46.820000  53853000\n",
       "2022-03-02  47.520000  48.990002  47.480000  48.869999  48.869999  46936500\n",
       "2022-03-03  48.180000  48.549999  47.619999  47.930000  47.930000  36389900\n",
       "2022-03-04  47.369999  48.270000  47.369999  48.070000  48.070000  38310700\n",
       "2022-03-07  48.009998  48.540001  47.599998  47.680000  47.680000  43813700\n",
       "2022-03-08  47.689999  48.720001  46.889999  47.500000  47.500000  44813900\n",
       "2022-03-09  48.410000  48.459999  46.889999  47.630001  47.630001  36076500\n",
       "2022-03-10  47.290001  47.310001  46.160000  46.660000  46.660000  36456000\n",
       "2022-03-11  47.150002  47.279999  45.770000  45.830002  45.830002  27071400"
      ]
     },
     "execution_count": 7,
     "metadata": {},
     "output_type": "execute_result"
    }
   ],
   "source": [
    "#vemos los ultimos 10 datos\n",
    "intel.tail(10)"
   ]
  },
  {
   "cell_type": "code",
   "execution_count": 8,
   "id": "7ffe0568-7cd5-4023-a918-51e6ddd78b85",
   "metadata": {},
   "outputs": [],
   "source": [
    "##Voy renombar columna 'Adj Close' por adj_close \n",
    "intel.rename(columns = {'Adj Close':'adj_close'}, inplace=True)"
   ]
  },
  {
   "cell_type": "code",
   "execution_count": 9,
   "id": "3d285176-a55d-4ef9-8600-4ddc7619b15d",
   "metadata": {},
   "outputs": [
    {
     "data": {
      "image/png": "[encoded data removed]",
      "text/plain": [
       "<Figure size 720x540 with 1 Axes>"
      ]
     },
     "metadata": {
      "needs_background": "light"
     },
     "output_type": "display_data"
    }
   ],
   "source": [
    "# vamos a graficar\n",
    "intel.adj_close.plot()\n",
    "plt.title('Precio de acción de intel en pesos (octubre 2019 -11 marzo 2022)')\n",
    "plt.show()"
   ]
  },
  {
   "cell_type": "code",
   "execution_count": 10,
   "id": "91857505-e616-47bc-9488-589fe6afd70a",
   "metadata": {},
   "outputs": [
    {
     "name": "stdout",
     "output_type": "stream",
     "text": [
      "p-value: 0.039048\n"
     ]
    }
   ],
   "source": [
    "#hacemos la prueba de dickey fuller aumentada ADF\n",
    "adf = adfuller(intel['adj_close'])\n",
    "\n",
    "#presentamos el p-value\n",
    "print('p-value: %f' % adf[1])\n",
    "\n"
   ]
  },
  {
   "cell_type": "markdown",
   "id": "462c80c9-f448-4c53-94e3-8b19994e00f4",
   "metadata": {},
   "source": [
    "Recuerda que $H_0$: serie no estacionaria"
   ]
  },
  {
   "cell_type": "code",
   "execution_count": 11,
   "id": "33a2b8bb-7dc1-4c03-acc2-41e146159836",
   "metadata": {},
   "outputs": [
    {
     "name": "stdout",
     "output_type": "stream",
     "text": [
      "con un un p-value=0.039\n",
      " Se rechaza hipótesis nula, serie estacionaria\n"
     ]
    }
   ],
   "source": [
    "if adf[1] < 0.05:\n",
    "    \n",
    "    print(f'con un un p-value={adf[1].round(3)}\\n Se rechaza hipótesis nula, serie estacionaria') \n",
    "    \n",
    "else:\n",
    "    \n",
    "    print(f'con un un p-value = {adf[1].round(3)}\\n NO se rechaza hipótesis nula, serie no estacionaria') \n"
   ]
  },
  {
   "cell_type": "markdown",
   "id": "0f21dd97-1ea0-4a22-b490-9dc9b0499510",
   "metadata": {},
   "source": [
    "para hacer la serie estacionaria, usaremos lafunción shift de pandas \n",
    "\n",
    "y guardaremos la serie diferenciada en un objeto aparte"
   ]
  },
  {
   "cell_type": "code",
   "execution_count": 12,
   "id": "00211906-3c5a-41b9-bff9-c436bf90c77f",
   "metadata": {},
   "outputs": [],
   "source": [
    "intel_diff = intel['adj_close'] - intel['adj_close'].shift()"
   ]
  },
  {
   "cell_type": "code",
   "execution_count": 13,
   "id": "5f0614ac-8a8a-4399-9bec-4c675999348b",
   "metadata": {},
   "outputs": [
    {
     "data": {
      "image/png": "[encoded data removed]",
      "text/plain": [
       "<Figure size 720x540 with 1 Axes>"
      ]
     },
     "metadata": {
      "needs_background": "light"
     },
     "output_type": "display_data"
    }
   ],
   "source": [
    "#graficamos el tipo de cambio diferenciado\n",
    "intel_diff.plot()\n",
    "plt.title('Precio de acción de Intel diferenciada en pesos, (octubre 2019-11 marzo 2022)')\n",
    "plt.show()"
   ]
  },
  {
   "cell_type": "code",
   "execution_count": 14,
   "id": "3827dbf1-f7d1-4a7f-bb7e-40f11203cf93",
   "metadata": {},
   "outputs": [],
   "source": [
    "#eliminamos los Nan\n",
    "intel_diff = intel_diff.dropna()"
   ]
  },
  {
   "cell_type": "code",
   "execution_count": 15,
   "id": "440c7cd2-1fdc-43a4-bc64-ed90d4243378",
   "metadata": {},
   "outputs": [],
   "source": [
    "## como la serie tiene saltos (los fines de semana los mercados no abren)\n",
    "## removeremos la fecha\n",
    "intel_diff = intel_diff.reset_index()\n",
    "\n",
    "### eliminamos columna fecha\n",
    "intel_diff = intel_diff.drop(['Date'], axis=1)"
   ]
  },
  {
   "cell_type": "code",
   "execution_count": 16,
   "id": "66d417dc-5d8b-4d91-b9d8-97dc94e2d96a",
   "metadata": {},
   "outputs": [
    {
     "data": {
      "text/html": [
       "<div>\n",
       "<style scoped>\n",
       "    .dataframe tbody tr th:only-of-type {\n",
       "        vertical-align: middle;\n",
       "    }\n",
       "\n",
       "    .dataframe tbody tr th {\n",
       "        vertical-align: top;\n",
       "    }\n",
       "\n",
       "    .dataframe thead th {\n",
       "        text-align: right;\n",
       "    }\n",
       "</style>\n",
       "<table border=\"1\" class=\"dataframe\">\n",
       "  <thead>\n",
       "    <tr style=\"text-align: right;\">\n",
       "      <th></th>\n",
       "      <th>adj_close</th>\n",
       "    </tr>\n",
       "  </thead>\n",
       "  <tbody>\n",
       "    <tr>\n",
       "      <th>0</th>\n",
       "      <td>1.821125</td>\n",
       "    </tr>\n",
       "    <tr>\n",
       "      <th>1</th>\n",
       "      <td>1.107689</td>\n",
       "    </tr>\n",
       "    <tr>\n",
       "      <th>2</th>\n",
       "      <td>0.769753</td>\n",
       "    </tr>\n",
       "    <tr>\n",
       "      <th>3</th>\n",
       "      <td>0.628941</td>\n",
       "    </tr>\n",
       "    <tr>\n",
       "      <th>4</th>\n",
       "      <td>0.215908</td>\n",
       "    </tr>\n",
       "    <tr>\n",
       "      <th>...</th>\n",
       "      <td>...</td>\n",
       "    </tr>\n",
       "    <tr>\n",
       "      <th>631</th>\n",
       "      <td>-0.389999</td>\n",
       "    </tr>\n",
       "    <tr>\n",
       "      <th>632</th>\n",
       "      <td>-0.180000</td>\n",
       "    </tr>\n",
       "    <tr>\n",
       "      <th>633</th>\n",
       "      <td>0.130001</td>\n",
       "    </tr>\n",
       "    <tr>\n",
       "      <th>634</th>\n",
       "      <td>-0.970001</td>\n",
       "    </tr>\n",
       "    <tr>\n",
       "      <th>635</th>\n",
       "      <td>-0.829998</td>\n",
       "    </tr>\n",
       "  </tbody>\n",
       "</table>\n",
       "<p>636 rows × 1 columns</p>\n",
       "</div>"
      ],
      "text/plain": [
       "     adj_close\n",
       "0     1.821125\n",
       "1     1.107689\n",
       "2     0.769753\n",
       "3     0.628941\n",
       "4     0.215908\n",
       "..         ...\n",
       "631  -0.389999\n",
       "632  -0.180000\n",
       "633   0.130001\n",
       "634  -0.970001\n",
       "635  -0.829998\n",
       "\n",
       "[636 rows x 1 columns]"
      ]
     },
     "execution_count": 16,
     "metadata": {},
     "output_type": "execute_result"
    }
   ],
   "source": [
    "intel_diff"
   ]
  },
  {
   "cell_type": "markdown",
   "id": "844b175b-830a-4e05-a4c4-c5fe812f408a",
   "metadata": {},
   "source": [
    "volvemos a realizar la prueba de raíz unitaria ADF"
   ]
  },
  {
   "cell_type": "code",
   "execution_count": 17,
   "id": "2407b303-3579-474b-ba45-0cb91d46e1d9",
   "metadata": {
    "tags": []
   },
   "outputs": [
    {
     "name": "stdout",
     "output_type": "stream",
     "text": [
      "con un un p-value=1.050640921616083e-12\n",
      " Se rechaza hipótesis nula, serie estacionaria\n"
     ]
    }
   ],
   "source": [
    "adf1 = adfuller(intel_diff)\n",
    "if adf1[1] < 0.05:\n",
    "    \n",
    "    print(f'con un un p-value={adf1[1]}\\n Se rechaza hipótesis nula, serie estacionaria') \n",
    "    \n",
    "else:\n",
    "    \n",
    "    print(f'con un un p-value = {adf1[1]}\\n NO se rechaza hipótesis nula, serie no estacionaria') \n"
   ]
  },
  {
   "cell_type": "markdown",
   "id": "ca0f07f5-73e4-4388-9791-be4415d3556d",
   "metadata": {},
   "source": [
    "Ahora que la serie ya es estacionaria, podemos hacer pronósticos con ella\n",
    "por tanto debemos identificar que tipo de proceso es\n"
   ]
  },
  {
   "cell_type": "code",
   "execution_count": 18,
   "id": "8fbebe87-21e6-4c95-9c1c-63c7e881297f",
   "metadata": {},
   "outputs": [
    {
     "data": {
      "image/png": "[encoded data removed]",
      "text/plain": [
       "<Figure size 720x540 with 1 Axes>"
      ]
     },
     "metadata": {
      "needs_background": "light"
     },
     "output_type": "display_data"
    }
   ],
   "source": [
    "#grafica de autocorrelación ACF\n",
    "plot_acf(intel_diff, zero=False, lags=30)\n",
    "plt.title('función de autocorrelación diferencia de Intel')\n",
    "plt.show()"
   ]
  },
  {
   "cell_type": "code",
   "execution_count": 19,
   "id": "3c8b330c-d281-40a7-afcd-7eb120cb0d7b",
   "metadata": {},
   "outputs": [
    {
     "data": {
      "image/png": "[encoded data removed]",
      "text/plain": [
       "<Figure size 720x540 with 1 Axes>"
      ]
     },
     "metadata": {
      "needs_background": "light"
     },
     "output_type": "display_data"
    }
   ],
   "source": [
    "#grafica de autocorrelación parcial PACF\n",
    "plot_pacf(intel_diff, zero=False, lags=30)\n",
    "plt.title('función de autocorrelación parcial diferencia de Intel')\n",
    "plt.show()"
   ]
  },
  {
   "cell_type": "markdown",
   "id": "2e35f859-98ab-4cde-9f7f-844c3d5ece60",
   "metadata": {},
   "source": [
    "primeros 2 rezagos de ACF son significativos y el primero de PACF también lo es, por lo que parece que la diferencia de las acciones de Intel es en ARMA(1,2) "
   ]
  },
  {
   "cell_type": "code",
   "execution_count": 20,
   "id": "65cf1f94-21c8-4e1f-bdad-764c07bf76d4",
   "metadata": {},
   "outputs": [
    {
     "data": {
      "text/html": [
       "<table class=\"simpletable\">\n",
       "<caption>SARIMAX Results</caption>\n",
       "<tr>\n",
       "  <th>Dep. Variable:</th>       <td>adj_close</td>    <th>  No. Observations:  </th>    <td>636</td>   \n",
       "</tr>\n",
       "<tr>\n",
       "  <th>Model:</th>            <td>ARIMA(1, 0, 2)</td>  <th>  Log Likelihood     </th> <td>-1073.502</td>\n",
       "</tr>\n",
       "<tr>\n",
       "  <th>Date:</th>            <td>Sun, 13 Mar 2022</td> <th>  AIC                </th> <td>2157.004</td> \n",
       "</tr>\n",
       "<tr>\n",
       "  <th>Time:</th>                <td>21:46:53</td>     <th>  BIC                </th> <td>2179.280</td> \n",
       "</tr>\n",
       "<tr>\n",
       "  <th>Sample:</th>                  <td>0</td>        <th>  HQIC               </th> <td>2165.653</td> \n",
       "</tr>\n",
       "<tr>\n",
       "  <th></th>                      <td> - 636</td>      <th>                     </th>     <td> </td>    \n",
       "</tr>\n",
       "<tr>\n",
       "  <th>Covariance Type:</th>        <td>opg</td>       <th>                     </th>     <td> </td>    \n",
       "</tr>\n",
       "</table>\n",
       "<table class=\"simpletable\">\n",
       "<tr>\n",
       "     <td></td>       <th>coef</th>     <th>std err</th>      <th>z</th>      <th>P>|z|</th>  <th>[0.025</th>    <th>0.975]</th>  \n",
       "</tr>\n",
       "<tr>\n",
       "  <th>const</th>  <td>    0.0027</td> <td>    0.051</td> <td>    0.053</td> <td> 0.958</td> <td>   -0.097</td> <td>    0.102</td>\n",
       "</tr>\n",
       "<tr>\n",
       "  <th>ar.L1</th>  <td>    0.0216</td> <td>    0.233</td> <td>    0.092</td> <td> 0.926</td> <td>   -0.435</td> <td>    0.479</td>\n",
       "</tr>\n",
       "<tr>\n",
       "  <th>ma.L1</th>  <td>   -0.2440</td> <td>    0.233</td> <td>   -1.050</td> <td> 0.294</td> <td>   -0.700</td> <td>    0.212</td>\n",
       "</tr>\n",
       "<tr>\n",
       "  <th>ma.L2</th>  <td>    0.1390</td> <td>    0.060</td> <td>    2.300</td> <td> 0.021</td> <td>    0.021</td> <td>    0.257</td>\n",
       "</tr>\n",
       "<tr>\n",
       "  <th>sigma2</th> <td>    1.7122</td> <td>    0.045</td> <td>   38.198</td> <td> 0.000</td> <td>    1.624</td> <td>    1.800</td>\n",
       "</tr>\n",
       "</table>\n",
       "<table class=\"simpletable\">\n",
       "<tr>\n",
       "  <th>Ljung-Box (L1) (Q):</th>     <td>0.00</td> <th>  Jarque-Bera (JB):  </th> <td>2401.48</td>\n",
       "</tr>\n",
       "<tr>\n",
       "  <th>Prob(Q):</th>                <td>1.00</td> <th>  Prob(JB):          </th>  <td>0.00</td>  \n",
       "</tr>\n",
       "<tr>\n",
       "  <th>Heteroskedasticity (H):</th> <td>0.36</td> <th>  Skew:              </th>  <td>-0.98</td> \n",
       "</tr>\n",
       "<tr>\n",
       "  <th>Prob(H) (two-sided):</th>    <td>0.00</td> <th>  Kurtosis:          </th>  <td>12.32</td> \n",
       "</tr>\n",
       "</table><br/><br/>Warnings:<br/>[1] Covariance matrix calculated using the outer product of gradients (complex-step)."
      ],
      "text/plain": [
       "<class 'statsmodels.iolib.summary.Summary'>\n",
       "\"\"\"\n",
       "                               SARIMAX Results                                \n",
       "==============================================================================\n",
       "Dep. Variable:              adj_close   No. Observations:                  636\n",
       "Model:                 ARIMA(1, 0, 2)   Log Likelihood               -1073.502\n",
       "Date:                Sun, 13 Mar 2022   AIC                           2157.004\n",
       "Time:                        21:46:53   BIC                           2179.280\n",
       "Sample:                             0   HQIC                          2165.653\n",
       "                                - 636                                         \n",
       "Covariance Type:                  opg                                         \n",
       "==============================================================================\n",
       "                 coef    std err          z      P>|z|      [0.025      0.975]\n",
       "------------------------------------------------------------------------------\n",
       "const          0.0027      0.051      0.053      0.958      -0.097       0.102\n",
       "ar.L1          0.0216      0.233      0.092      0.926      -0.435       0.479\n",
       "ma.L1         -0.2440      0.233     -1.050      0.294      -0.700       0.212\n",
       "ma.L2          0.1390      0.060      2.300      0.021       0.021       0.257\n",
       "sigma2         1.7122      0.045     38.198      0.000       1.624       1.800\n",
       "===================================================================================\n",
       "Ljung-Box (L1) (Q):                   0.00   Jarque-Bera (JB):              2401.48\n",
       "Prob(Q):                              1.00   Prob(JB):                         0.00\n",
       "Heteroskedasticity (H):               0.36   Skew:                            -0.98\n",
       "Prob(H) (two-sided):                  0.00   Kurtosis:                        12.32\n",
       "===================================================================================\n",
       "\n",
       "Warnings:\n",
       "[1] Covariance matrix calculated using the outer product of gradients (complex-step).\n",
       "\"\"\""
      ]
     },
     "execution_count": 20,
     "metadata": {},
     "output_type": "execute_result"
    }
   ],
   "source": [
    "# estimamos un ARMA (1,1)\n",
    "modelo = ARIMA(intel_diff, order=(1, 0, 2))\n",
    "resultado = modelo.fit()\n",
    "resultado.summary()"
   ]
  },
  {
   "cell_type": "markdown",
   "id": "08216f52-1dba-47f3-a352-2cb810cce639",
   "metadata": {},
   "source": [
    "Los coeficientes de algunos rezagos no son significativos"
   ]
  },
  {
   "cell_type": "markdown",
   "id": "855eaee5-927a-4906-9e18-2134b9e35d7d",
   "metadata": {},
   "source": [
    "Aunque los ACF y PACF nos sugieren un ARMA(1,2), no son del todo precisos, asi que vamos a estimar varios modelos con 6 rezagos de AR, 6rezagos de MA y elegir uno de acuerdo con el BIC (criterio bayesiano de información)"
   ]
  },
  {
   "cell_type": "code",
   "execution_count": 38,
   "id": "52f89740-5cb3-4604-acbf-09a85b4332b0",
   "metadata": {},
   "outputs": [
    {
     "name": "stdout",
     "output_type": "stream",
     "text": [
      "AR: 0, MA: 0\n",
      "AR: 0, MA: 1\n",
      "AR: 0, MA: 2\n",
      "AR: 0, MA: 3\n",
      "AR: 0, MA: 4\n",
      "AR: 0, MA: 5\n",
      "AR: 0, MA: 6\n",
      "AR: 1, MA: 0\n",
      "AR: 1, MA: 1\n",
      "AR: 1, MA: 2\n",
      "AR: 1, MA: 3\n"
     ]
    },
    {
     "name": "stderr",
     "output_type": "stream",
     "text": [
      "C:\\Users\\aaron\\anaconda3\\lib\\site-packages\\statsmodels\\tsa\\statespace\\sarimax.py:966: UserWarning: Non-stationary starting autoregressive parameters found. Using zeros as starting parameters.\n",
      "  warn('Non-stationary starting autoregressive parameters'\n",
      "C:\\Users\\aaron\\anaconda3\\lib\\site-packages\\statsmodels\\tsa\\statespace\\sarimax.py:978: UserWarning: Non-invertible starting MA parameters found. Using zeros as starting parameters.\n",
      "  warn('Non-invertible starting MA parameters found.'\n"
     ]
    },
    {
     "name": "stdout",
     "output_type": "stream",
     "text": [
      "AR: 1, MA: 4\n",
      "AR: 1, MA: 5\n",
      "AR: 1, MA: 6\n",
      "AR: 2, MA: 0\n",
      "AR: 2, MA: 1\n"
     ]
    },
    {
     "name": "stderr",
     "output_type": "stream",
     "text": [
      "C:\\Users\\aaron\\anaconda3\\lib\\site-packages\\statsmodels\\base\\model.py:566: ConvergenceWarning: Maximum Likelihood optimization failed to converge. Check mle_retvals\n",
      "  warnings.warn(\"Maximum Likelihood optimization failed to \"\n"
     ]
    },
    {
     "name": "stdout",
     "output_type": "stream",
     "text": [
      "AR: 2, MA: 2\n",
      "AR: 2, MA: 3\n",
      "AR: 2, MA: 4\n"
     ]
    },
    {
     "name": "stderr",
     "output_type": "stream",
     "text": [
      "C:\\Users\\aaron\\anaconda3\\lib\\site-packages\\statsmodels\\base\\model.py:566: ConvergenceWarning: Maximum Likelihood optimization failed to converge. Check mle_retvals\n",
      "  warnings.warn(\"Maximum Likelihood optimization failed to \"\n"
     ]
    },
    {
     "name": "stdout",
     "output_type": "stream",
     "text": [
      "AR: 2, MA: 5\n",
      "AR: 2, MA: 6\n",
      "AR: 3, MA: 0\n",
      "AR: 3, MA: 1\n",
      "AR: 3, MA: 2\n",
      "AR: 3, MA: 3\n"
     ]
    },
    {
     "name": "stderr",
     "output_type": "stream",
     "text": [
      "C:\\Users\\aaron\\anaconda3\\lib\\site-packages\\statsmodels\\base\\model.py:566: ConvergenceWarning: Maximum Likelihood optimization failed to converge. Check mle_retvals\n",
      "  warnings.warn(\"Maximum Likelihood optimization failed to \"\n"
     ]
    },
    {
     "name": "stdout",
     "output_type": "stream",
     "text": [
      "AR: 3, MA: 4\n"
     ]
    },
    {
     "name": "stderr",
     "output_type": "stream",
     "text": [
      "C:\\Users\\aaron\\anaconda3\\lib\\site-packages\\statsmodels\\base\\model.py:566: ConvergenceWarning: Maximum Likelihood optimization failed to converge. Check mle_retvals\n",
      "  warnings.warn(\"Maximum Likelihood optimization failed to \"\n"
     ]
    },
    {
     "name": "stdout",
     "output_type": "stream",
     "text": [
      "AR: 3, MA: 5\n"
     ]
    },
    {
     "name": "stderr",
     "output_type": "stream",
     "text": [
      "C:\\Users\\aaron\\anaconda3\\lib\\site-packages\\statsmodels\\base\\model.py:566: ConvergenceWarning: Maximum Likelihood optimization failed to converge. Check mle_retvals\n",
      "  warnings.warn(\"Maximum Likelihood optimization failed to \"\n"
     ]
    },
    {
     "name": "stdout",
     "output_type": "stream",
     "text": [
      "AR: 3, MA: 6\n"
     ]
    },
    {
     "name": "stderr",
     "output_type": "stream",
     "text": [
      "C:\\Users\\aaron\\anaconda3\\lib\\site-packages\\statsmodels\\base\\model.py:566: ConvergenceWarning: Maximum Likelihood optimization failed to converge. Check mle_retvals\n",
      "  warnings.warn(\"Maximum Likelihood optimization failed to \"\n"
     ]
    },
    {
     "name": "stdout",
     "output_type": "stream",
     "text": [
      "AR: 4, MA: 0\n",
      "AR: 4, MA: 1\n",
      "AR: 4, MA: 2\n"
     ]
    },
    {
     "name": "stderr",
     "output_type": "stream",
     "text": [
      "C:\\Users\\aaron\\anaconda3\\lib\\site-packages\\statsmodels\\base\\model.py:566: ConvergenceWarning: Maximum Likelihood optimization failed to converge. Check mle_retvals\n",
      "  warnings.warn(\"Maximum Likelihood optimization failed to \"\n"
     ]
    },
    {
     "name": "stdout",
     "output_type": "stream",
     "text": [
      "AR: 4, MA: 3\n"
     ]
    },
    {
     "name": "stderr",
     "output_type": "stream",
     "text": [
      "C:\\Users\\aaron\\anaconda3\\lib\\site-packages\\statsmodels\\base\\model.py:566: ConvergenceWarning: Maximum Likelihood optimization failed to converge. Check mle_retvals\n",
      "  warnings.warn(\"Maximum Likelihood optimization failed to \"\n"
     ]
    },
    {
     "name": "stdout",
     "output_type": "stream",
     "text": [
      "AR: 4, MA: 4\n"
     ]
    },
    {
     "name": "stderr",
     "output_type": "stream",
     "text": [
      "C:\\Users\\aaron\\anaconda3\\lib\\site-packages\\statsmodels\\base\\model.py:566: ConvergenceWarning: Maximum Likelihood optimization failed to converge. Check mle_retvals\n",
      "  warnings.warn(\"Maximum Likelihood optimization failed to \"\n"
     ]
    },
    {
     "name": "stdout",
     "output_type": "stream",
     "text": [
      "AR: 4, MA: 5\n"
     ]
    },
    {
     "name": "stderr",
     "output_type": "stream",
     "text": [
      "C:\\Users\\aaron\\anaconda3\\lib\\site-packages\\statsmodels\\base\\model.py:566: ConvergenceWarning: Maximum Likelihood optimization failed to converge. Check mle_retvals\n",
      "  warnings.warn(\"Maximum Likelihood optimization failed to \"\n"
     ]
    },
    {
     "name": "stdout",
     "output_type": "stream",
     "text": [
      "AR: 4, MA: 6\n"
     ]
    },
    {
     "name": "stderr",
     "output_type": "stream",
     "text": [
      "C:\\Users\\aaron\\anaconda3\\lib\\site-packages\\statsmodels\\base\\model.py:566: ConvergenceWarning: Maximum Likelihood optimization failed to converge. Check mle_retvals\n",
      "  warnings.warn(\"Maximum Likelihood optimization failed to \"\n"
     ]
    },
    {
     "name": "stdout",
     "output_type": "stream",
     "text": [
      "AR: 5, MA: 0\n",
      "AR: 5, MA: 1\n",
      "AR: 5, MA: 2\n"
     ]
    },
    {
     "name": "stderr",
     "output_type": "stream",
     "text": [
      "C:\\Users\\aaron\\anaconda3\\lib\\site-packages\\statsmodels\\base\\model.py:566: ConvergenceWarning: Maximum Likelihood optimization failed to converge. Check mle_retvals\n",
      "  warnings.warn(\"Maximum Likelihood optimization failed to \"\n"
     ]
    },
    {
     "name": "stdout",
     "output_type": "stream",
     "text": [
      "AR: 5, MA: 3\n"
     ]
    },
    {
     "name": "stderr",
     "output_type": "stream",
     "text": [
      "C:\\Users\\aaron\\anaconda3\\lib\\site-packages\\statsmodels\\base\\model.py:566: ConvergenceWarning: Maximum Likelihood optimization failed to converge. Check mle_retvals\n",
      "  warnings.warn(\"Maximum Likelihood optimization failed to \"\n"
     ]
    },
    {
     "name": "stdout",
     "output_type": "stream",
     "text": [
      "AR: 5, MA: 4\n"
     ]
    },
    {
     "name": "stderr",
     "output_type": "stream",
     "text": [
      "C:\\Users\\aaron\\anaconda3\\lib\\site-packages\\statsmodels\\base\\model.py:566: ConvergenceWarning: Maximum Likelihood optimization failed to converge. Check mle_retvals\n",
      "  warnings.warn(\"Maximum Likelihood optimization failed to \"\n"
     ]
    },
    {
     "name": "stdout",
     "output_type": "stream",
     "text": [
      "AR: 5, MA: 5\n"
     ]
    },
    {
     "name": "stderr",
     "output_type": "stream",
     "text": [
      "C:\\Users\\aaron\\anaconda3\\lib\\site-packages\\statsmodels\\base\\model.py:566: ConvergenceWarning: Maximum Likelihood optimization failed to converge. Check mle_retvals\n",
      "  warnings.warn(\"Maximum Likelihood optimization failed to \"\n"
     ]
    },
    {
     "name": "stdout",
     "output_type": "stream",
     "text": [
      "AR: 5, MA: 6\n"
     ]
    },
    {
     "name": "stderr",
     "output_type": "stream",
     "text": [
      "C:\\Users\\aaron\\anaconda3\\lib\\site-packages\\statsmodels\\base\\model.py:566: ConvergenceWarning: Maximum Likelihood optimization failed to converge. Check mle_retvals\n",
      "  warnings.warn(\"Maximum Likelihood optimization failed to \"\n"
     ]
    },
    {
     "name": "stdout",
     "output_type": "stream",
     "text": [
      "AR: 6, MA: 0\n",
      "AR: 6, MA: 1\n",
      "AR: 6, MA: 2\n",
      "AR: 6, MA: 3\n",
      "AR: 6, MA: 4\n"
     ]
    },
    {
     "name": "stderr",
     "output_type": "stream",
     "text": [
      "C:\\Users\\aaron\\anaconda3\\lib\\site-packages\\statsmodels\\base\\model.py:566: ConvergenceWarning: Maximum Likelihood optimization failed to converge. Check mle_retvals\n",
      "  warnings.warn(\"Maximum Likelihood optimization failed to \"\n"
     ]
    },
    {
     "name": "stdout",
     "output_type": "stream",
     "text": [
      "AR: 6, MA: 5\n"
     ]
    },
    {
     "name": "stderr",
     "output_type": "stream",
     "text": [
      "C:\\Users\\aaron\\anaconda3\\lib\\site-packages\\statsmodels\\base\\model.py:566: ConvergenceWarning: Maximum Likelihood optimization failed to converge. Check mle_retvals\n",
      "  warnings.warn(\"Maximum Likelihood optimization failed to \"\n"
     ]
    },
    {
     "name": "stdout",
     "output_type": "stream",
     "text": [
      "AR: 6, MA: 6\n"
     ]
    },
    {
     "name": "stderr",
     "output_type": "stream",
     "text": [
      "C:\\Users\\aaron\\anaconda3\\lib\\site-packages\\statsmodels\\base\\model.py:566: ConvergenceWarning: Maximum Likelihood optimization failed to converge. Check mle_retvals\n",
      "  warnings.warn(\"Maximum Likelihood optimization failed to \"\n"
     ]
    },
    {
     "data": {
      "text/html": [
       "<div>\n",
       "<style scoped>\n",
       "    .dataframe tbody tr th:only-of-type {\n",
       "        vertical-align: middle;\n",
       "    }\n",
       "\n",
       "    .dataframe tbody tr th {\n",
       "        vertical-align: top;\n",
       "    }\n",
       "\n",
       "    .dataframe thead th {\n",
       "        text-align: right;\n",
       "    }\n",
       "</style>\n",
       "<table border=\"1\" class=\"dataframe\">\n",
       "  <thead>\n",
       "    <tr style=\"text-align: right;\">\n",
       "      <th></th>\n",
       "      <th></th>\n",
       "      <th>AIC</th>\n",
       "      <th>BIC</th>\n",
       "    </tr>\n",
       "    <tr>\n",
       "      <th>AR</th>\n",
       "      <th>MA</th>\n",
       "      <th></th>\n",
       "      <th></th>\n",
       "    </tr>\n",
       "  </thead>\n",
       "  <tbody>\n",
       "    <tr>\n",
       "      <th rowspan=\"7\" valign=\"top\">0</th>\n",
       "      <th>0</th>\n",
       "      <td>2192.211026</td>\n",
       "      <td>2201.121423</td>\n",
       "    </tr>\n",
       "    <tr>\n",
       "      <th>1</th>\n",
       "      <td>2164.046743</td>\n",
       "      <td>2177.412338</td>\n",
       "    </tr>\n",
       "    <tr>\n",
       "      <th>2</th>\n",
       "      <td>2155.009098</td>\n",
       "      <td>2172.829892</td>\n",
       "    </tr>\n",
       "    <tr>\n",
       "      <th>3</th>\n",
       "      <td>2157.002253</td>\n",
       "      <td>2179.278246</td>\n",
       "    </tr>\n",
       "    <tr>\n",
       "      <th>4</th>\n",
       "      <td>2158.847284</td>\n",
       "      <td>2185.578476</td>\n",
       "    </tr>\n",
       "    <tr>\n",
       "      <th>5</th>\n",
       "      <td>2160.710769</td>\n",
       "      <td>2191.897159</td>\n",
       "    </tr>\n",
       "    <tr>\n",
       "      <th>6</th>\n",
       "      <td>2157.027256</td>\n",
       "      <td>2192.668845</td>\n",
       "    </tr>\n",
       "    <tr>\n",
       "      <th rowspan=\"7\" valign=\"top\">1</th>\n",
       "      <th>0</th>\n",
       "      <td>2158.014331</td>\n",
       "      <td>2171.379927</td>\n",
       "    </tr>\n",
       "    <tr>\n",
       "      <th>1</th>\n",
       "      <td>2158.251785</td>\n",
       "      <td>2176.072579</td>\n",
       "    </tr>\n",
       "    <tr>\n",
       "      <th>2</th>\n",
       "      <td>2157.003675</td>\n",
       "      <td>2179.279668</td>\n",
       "    </tr>\n",
       "    <tr>\n",
       "      <th>3</th>\n",
       "      <td>2154.363518</td>\n",
       "      <td>2181.094709</td>\n",
       "    </tr>\n",
       "    <tr>\n",
       "      <th>4</th>\n",
       "      <td>2155.262284</td>\n",
       "      <td>2186.448674</td>\n",
       "    </tr>\n",
       "    <tr>\n",
       "      <th>5</th>\n",
       "      <td>2156.460774</td>\n",
       "      <td>2192.102362</td>\n",
       "    </tr>\n",
       "    <tr>\n",
       "      <th>6</th>\n",
       "      <td>2156.349985</td>\n",
       "      <td>2196.446772</td>\n",
       "    </tr>\n",
       "    <tr>\n",
       "      <th rowspan=\"7\" valign=\"top\">2</th>\n",
       "      <th>0</th>\n",
       "      <td>2157.164939</td>\n",
       "      <td>2174.985733</td>\n",
       "    </tr>\n",
       "    <tr>\n",
       "      <th>1</th>\n",
       "      <td>2158.566435</td>\n",
       "      <td>2180.842428</td>\n",
       "    </tr>\n",
       "    <tr>\n",
       "      <th>2</th>\n",
       "      <td>2158.930100</td>\n",
       "      <td>2185.661291</td>\n",
       "    </tr>\n",
       "    <tr>\n",
       "      <th>3</th>\n",
       "      <td>2146.079554</td>\n",
       "      <td>2177.265944</td>\n",
       "    </tr>\n",
       "    <tr>\n",
       "      <th>4</th>\n",
       "      <td>2153.829993</td>\n",
       "      <td>2189.471581</td>\n",
       "    </tr>\n",
       "    <tr>\n",
       "      <th>5</th>\n",
       "      <td>2146.487787</td>\n",
       "      <td>2186.584574</td>\n",
       "    </tr>\n",
       "    <tr>\n",
       "      <th>6</th>\n",
       "      <td>2148.415865</td>\n",
       "      <td>2192.967851</td>\n",
       "    </tr>\n",
       "    <tr>\n",
       "      <th rowspan=\"7\" valign=\"top\">3</th>\n",
       "      <th>0</th>\n",
       "      <td>2156.740517</td>\n",
       "      <td>2179.016510</td>\n",
       "    </tr>\n",
       "    <tr>\n",
       "      <th>1</th>\n",
       "      <td>2150.802632</td>\n",
       "      <td>2177.533823</td>\n",
       "    </tr>\n",
       "    <tr>\n",
       "      <th>2</th>\n",
       "      <td>2145.328833</td>\n",
       "      <td>2176.515223</td>\n",
       "    </tr>\n",
       "    <tr>\n",
       "      <th>3</th>\n",
       "      <td>2146.848439</td>\n",
       "      <td>2182.490027</td>\n",
       "    </tr>\n",
       "    <tr>\n",
       "      <th>4</th>\n",
       "      <td>2146.425088</td>\n",
       "      <td>2186.521875</td>\n",
       "    </tr>\n",
       "    <tr>\n",
       "      <th>5</th>\n",
       "      <td>2145.310827</td>\n",
       "      <td>2189.862813</td>\n",
       "    </tr>\n",
       "    <tr>\n",
       "      <th>6</th>\n",
       "      <td>2145.506328</td>\n",
       "      <td>2194.513512</td>\n",
       "    </tr>\n",
       "    <tr>\n",
       "      <th rowspan=\"7\" valign=\"top\">4</th>\n",
       "      <th>0</th>\n",
       "      <td>2157.900999</td>\n",
       "      <td>2184.632191</td>\n",
       "    </tr>\n",
       "    <tr>\n",
       "      <th>1</th>\n",
       "      <td>2152.628397</td>\n",
       "      <td>2183.814787</td>\n",
       "    </tr>\n",
       "    <tr>\n",
       "      <th>2</th>\n",
       "      <td>2149.921496</td>\n",
       "      <td>2185.563085</td>\n",
       "    </tr>\n",
       "    <tr>\n",
       "      <th>3</th>\n",
       "      <td>2148.448386</td>\n",
       "      <td>2188.545173</td>\n",
       "    </tr>\n",
       "    <tr>\n",
       "      <th>4</th>\n",
       "      <td>2153.734643</td>\n",
       "      <td>2198.286629</td>\n",
       "    </tr>\n",
       "    <tr>\n",
       "      <th>5</th>\n",
       "      <td>2145.992021</td>\n",
       "      <td>2194.999205</td>\n",
       "    </tr>\n",
       "    <tr>\n",
       "      <th>6</th>\n",
       "      <td>2147.552703</td>\n",
       "      <td>2201.015086</td>\n",
       "    </tr>\n",
       "    <tr>\n",
       "      <th rowspan=\"7\" valign=\"top\">5</th>\n",
       "      <th>0</th>\n",
       "      <td>2159.501590</td>\n",
       "      <td>2190.687980</td>\n",
       "    </tr>\n",
       "    <tr>\n",
       "      <th>1</th>\n",
       "      <td>2153.482274</td>\n",
       "      <td>2189.123862</td>\n",
       "    </tr>\n",
       "    <tr>\n",
       "      <th>2</th>\n",
       "      <td>2152.805032</td>\n",
       "      <td>2192.901819</td>\n",
       "    </tr>\n",
       "    <tr>\n",
       "      <th>3</th>\n",
       "      <td>2153.971427</td>\n",
       "      <td>2198.523412</td>\n",
       "    </tr>\n",
       "    <tr>\n",
       "      <th>4</th>\n",
       "      <td>2144.756765</td>\n",
       "      <td>2193.763950</td>\n",
       "    </tr>\n",
       "    <tr>\n",
       "      <th>5</th>\n",
       "      <td>2148.679584</td>\n",
       "      <td>2202.141967</td>\n",
       "    </tr>\n",
       "    <tr>\n",
       "      <th>6</th>\n",
       "      <td>2149.597844</td>\n",
       "      <td>2207.515425</td>\n",
       "    </tr>\n",
       "    <tr>\n",
       "      <th rowspan=\"7\" valign=\"top\">6</th>\n",
       "      <th>0</th>\n",
       "      <td>2156.882457</td>\n",
       "      <td>2192.524045</td>\n",
       "    </tr>\n",
       "    <tr>\n",
       "      <th>1</th>\n",
       "      <td>2152.088728</td>\n",
       "      <td>2192.185516</td>\n",
       "    </tr>\n",
       "    <tr>\n",
       "      <th>2</th>\n",
       "      <td>2148.384450</td>\n",
       "      <td>2192.936436</td>\n",
       "    </tr>\n",
       "    <tr>\n",
       "      <th>3</th>\n",
       "      <td>2154.637239</td>\n",
       "      <td>2203.644423</td>\n",
       "    </tr>\n",
       "    <tr>\n",
       "      <th>4</th>\n",
       "      <td>2149.206347</td>\n",
       "      <td>2202.668730</td>\n",
       "    </tr>\n",
       "    <tr>\n",
       "      <th>5</th>\n",
       "      <td>2149.580694</td>\n",
       "      <td>2207.498275</td>\n",
       "    </tr>\n",
       "    <tr>\n",
       "      <th>6</th>\n",
       "      <td>2143.934470</td>\n",
       "      <td>2206.307250</td>\n",
       "    </tr>\n",
       "  </tbody>\n",
       "</table>\n",
       "</div>"
      ],
      "text/plain": [
       "               AIC          BIC\n",
       "AR MA                          \n",
       "0  0   2192.211026  2201.121423\n",
       "   1   2164.046743  2177.412338\n",
       "   2   2155.009098  2172.829892\n",
       "   3   2157.002253  2179.278246\n",
       "   4   2158.847284  2185.578476\n",
       "   5   2160.710769  2191.897159\n",
       "   6   2157.027256  2192.668845\n",
       "1  0   2158.014331  2171.379927\n",
       "   1   2158.251785  2176.072579\n",
       "   2   2157.003675  2179.279668\n",
       "   3   2154.363518  2181.094709\n",
       "   4   2155.262284  2186.448674\n",
       "   5   2156.460774  2192.102362\n",
       "   6   2156.349985  2196.446772\n",
       "2  0   2157.164939  2174.985733\n",
       "   1   2158.566435  2180.842428\n",
       "   2   2158.930100  2185.661291\n",
       "   3   2146.079554  2177.265944\n",
       "   4   2153.829993  2189.471581\n",
       "   5   2146.487787  2186.584574\n",
       "   6   2148.415865  2192.967851\n",
       "3  0   2156.740517  2179.016510\n",
       "   1   2150.802632  2177.533823\n",
       "   2   2145.328833  2176.515223\n",
       "   3   2146.848439  2182.490027\n",
       "   4   2146.425088  2186.521875\n",
       "   5   2145.310827  2189.862813\n",
       "   6   2145.506328  2194.513512\n",
       "4  0   2157.900999  2184.632191\n",
       "   1   2152.628397  2183.814787\n",
       "   2   2149.921496  2185.563085\n",
       "   3   2148.448386  2188.545173\n",
       "   4   2153.734643  2198.286629\n",
       "   5   2145.992021  2194.999205\n",
       "   6   2147.552703  2201.015086\n",
       "5  0   2159.501590  2190.687980\n",
       "   1   2153.482274  2189.123862\n",
       "   2   2152.805032  2192.901819\n",
       "   3   2153.971427  2198.523412\n",
       "   4   2144.756765  2193.763950\n",
       "   5   2148.679584  2202.141967\n",
       "   6   2149.597844  2207.515425\n",
       "6  0   2156.882457  2192.524045\n",
       "   1   2152.088728  2192.185516\n",
       "   2   2148.384450  2192.936436\n",
       "   3   2154.637239  2203.644423\n",
       "   4   2149.206347  2202.668730\n",
       "   5   2149.580694  2207.498275\n",
       "   6   2143.934470  2206.307250"
      ]
     },
     "execution_count": 38,
     "metadata": {},
     "output_type": "execute_result"
    }
   ],
   "source": [
    "ic = {}\n",
    "for ar in range(7):\n",
    "    for ma in range(7):\n",
    "        print(f\"AR: {ar}, MA: {ma}\")\n",
    "        modelo = ARIMA(intel_diff, order=(ar, 0, ma))\n",
    "        resultado = modelo.fit()\n",
    "        ic[(ar, ma)] = [resultado.aic, resultado.bic]\n",
    "\n",
    "ic = pd.DataFrame(ic, index=[\"AIC\", \"BIC\"]).T\n",
    "ic.index = ic.index.set_names([\"AR\", \"MA\"])\n",
    "ic"
   ]
  },
  {
   "cell_type": "markdown",
   "id": "1ec39e4c-376d-43d5-8525-4e93f8d62266",
   "metadata": {},
   "source": [
    "los ordenamos de acuerdo al BIC "
   ]
  },
  {
   "cell_type": "code",
   "execution_count": 22,
   "id": "0b8ca96a-dab0-416f-9055-afb5b523b150",
   "metadata": {},
   "outputs": [
    {
     "data": {
      "text/html": [
       "<div>\n",
       "<style scoped>\n",
       "    .dataframe tbody tr th:only-of-type {\n",
       "        vertical-align: middle;\n",
       "    }\n",
       "\n",
       "    .dataframe tbody tr th {\n",
       "        vertical-align: top;\n",
       "    }\n",
       "\n",
       "    .dataframe thead th {\n",
       "        text-align: right;\n",
       "    }\n",
       "</style>\n",
       "<table border=\"1\" class=\"dataframe\">\n",
       "  <thead>\n",
       "    <tr style=\"text-align: right;\">\n",
       "      <th></th>\n",
       "      <th></th>\n",
       "      <th>AIC</th>\n",
       "      <th>BIC</th>\n",
       "    </tr>\n",
       "    <tr>\n",
       "      <th>AR</th>\n",
       "      <th>MA</th>\n",
       "      <th></th>\n",
       "      <th></th>\n",
       "    </tr>\n",
       "  </thead>\n",
       "  <tbody>\n",
       "    <tr>\n",
       "      <th>1</th>\n",
       "      <th>0</th>\n",
       "      <td>2158.014331</td>\n",
       "      <td>2171.379927</td>\n",
       "    </tr>\n",
       "    <tr>\n",
       "      <th>0</th>\n",
       "      <th>2</th>\n",
       "      <td>2155.009098</td>\n",
       "      <td>2172.829892</td>\n",
       "    </tr>\n",
       "    <tr>\n",
       "      <th>2</th>\n",
       "      <th>0</th>\n",
       "      <td>2157.164939</td>\n",
       "      <td>2174.985733</td>\n",
       "    </tr>\n",
       "    <tr>\n",
       "      <th>1</th>\n",
       "      <th>1</th>\n",
       "      <td>2158.251785</td>\n",
       "      <td>2176.072579</td>\n",
       "    </tr>\n",
       "    <tr>\n",
       "      <th>3</th>\n",
       "      <th>2</th>\n",
       "      <td>2145.328833</td>\n",
       "      <td>2176.515223</td>\n",
       "    </tr>\n",
       "    <tr>\n",
       "      <th>2</th>\n",
       "      <th>3</th>\n",
       "      <td>2146.079554</td>\n",
       "      <td>2177.265944</td>\n",
       "    </tr>\n",
       "    <tr>\n",
       "      <th>0</th>\n",
       "      <th>1</th>\n",
       "      <td>2164.046743</td>\n",
       "      <td>2177.412338</td>\n",
       "    </tr>\n",
       "    <tr>\n",
       "      <th rowspan=\"2\" valign=\"top\">3</th>\n",
       "      <th>1</th>\n",
       "      <td>2150.802632</td>\n",
       "      <td>2177.533823</td>\n",
       "    </tr>\n",
       "    <tr>\n",
       "      <th>0</th>\n",
       "      <td>2156.740517</td>\n",
       "      <td>2179.016510</td>\n",
       "    </tr>\n",
       "    <tr>\n",
       "      <th>0</th>\n",
       "      <th>3</th>\n",
       "      <td>2157.002253</td>\n",
       "      <td>2179.278246</td>\n",
       "    </tr>\n",
       "    <tr>\n",
       "      <th>1</th>\n",
       "      <th>2</th>\n",
       "      <td>2157.003675</td>\n",
       "      <td>2179.279668</td>\n",
       "    </tr>\n",
       "    <tr>\n",
       "      <th>2</th>\n",
       "      <th>1</th>\n",
       "      <td>2158.566435</td>\n",
       "      <td>2180.842428</td>\n",
       "    </tr>\n",
       "    <tr>\n",
       "      <th>1</th>\n",
       "      <th>3</th>\n",
       "      <td>2154.363518</td>\n",
       "      <td>2181.094709</td>\n",
       "    </tr>\n",
       "    <tr>\n",
       "      <th>3</th>\n",
       "      <th>3</th>\n",
       "      <td>2146.848439</td>\n",
       "      <td>2182.490027</td>\n",
       "    </tr>\n",
       "    <tr>\n",
       "      <th rowspan=\"3\" valign=\"top\">4</th>\n",
       "      <th>1</th>\n",
       "      <td>2152.628397</td>\n",
       "      <td>2183.814787</td>\n",
       "    </tr>\n",
       "    <tr>\n",
       "      <th>0</th>\n",
       "      <td>2157.900999</td>\n",
       "      <td>2184.632191</td>\n",
       "    </tr>\n",
       "    <tr>\n",
       "      <th>2</th>\n",
       "      <td>2149.921496</td>\n",
       "      <td>2185.563085</td>\n",
       "    </tr>\n",
       "    <tr>\n",
       "      <th>0</th>\n",
       "      <th>4</th>\n",
       "      <td>2158.847284</td>\n",
       "      <td>2185.578476</td>\n",
       "    </tr>\n",
       "    <tr>\n",
       "      <th>2</th>\n",
       "      <th>2</th>\n",
       "      <td>2158.930100</td>\n",
       "      <td>2185.661291</td>\n",
       "    </tr>\n",
       "    <tr>\n",
       "      <th>1</th>\n",
       "      <th>4</th>\n",
       "      <td>2155.262284</td>\n",
       "      <td>2186.448674</td>\n",
       "    </tr>\n",
       "    <tr>\n",
       "      <th>3</th>\n",
       "      <th>4</th>\n",
       "      <td>2146.425088</td>\n",
       "      <td>2186.521875</td>\n",
       "    </tr>\n",
       "    <tr>\n",
       "      <th>2</th>\n",
       "      <th>5</th>\n",
       "      <td>2146.487787</td>\n",
       "      <td>2186.584574</td>\n",
       "    </tr>\n",
       "    <tr>\n",
       "      <th>4</th>\n",
       "      <th>3</th>\n",
       "      <td>2148.448386</td>\n",
       "      <td>2188.545173</td>\n",
       "    </tr>\n",
       "    <tr>\n",
       "      <th>5</th>\n",
       "      <th>1</th>\n",
       "      <td>2153.482274</td>\n",
       "      <td>2189.123862</td>\n",
       "    </tr>\n",
       "    <tr>\n",
       "      <th>2</th>\n",
       "      <th>4</th>\n",
       "      <td>2153.829993</td>\n",
       "      <td>2189.471581</td>\n",
       "    </tr>\n",
       "    <tr>\n",
       "      <th>3</th>\n",
       "      <th>5</th>\n",
       "      <td>2145.310827</td>\n",
       "      <td>2189.862813</td>\n",
       "    </tr>\n",
       "    <tr>\n",
       "      <th>5</th>\n",
       "      <th>0</th>\n",
       "      <td>2159.501590</td>\n",
       "      <td>2190.687980</td>\n",
       "    </tr>\n",
       "    <tr>\n",
       "      <th>0</th>\n",
       "      <th>5</th>\n",
       "      <td>2160.710769</td>\n",
       "      <td>2191.897159</td>\n",
       "    </tr>\n",
       "    <tr>\n",
       "      <th>1</th>\n",
       "      <th>5</th>\n",
       "      <td>2156.460774</td>\n",
       "      <td>2192.102362</td>\n",
       "    </tr>\n",
       "    <tr>\n",
       "      <th rowspan=\"2\" valign=\"top\">6</th>\n",
       "      <th>1</th>\n",
       "      <td>2152.088728</td>\n",
       "      <td>2192.185516</td>\n",
       "    </tr>\n",
       "    <tr>\n",
       "      <th>0</th>\n",
       "      <td>2156.882457</td>\n",
       "      <td>2192.524045</td>\n",
       "    </tr>\n",
       "    <tr>\n",
       "      <th>0</th>\n",
       "      <th>6</th>\n",
       "      <td>2157.027256</td>\n",
       "      <td>2192.668845</td>\n",
       "    </tr>\n",
       "    <tr>\n",
       "      <th>5</th>\n",
       "      <th>2</th>\n",
       "      <td>2152.805032</td>\n",
       "      <td>2192.901819</td>\n",
       "    </tr>\n",
       "    <tr>\n",
       "      <th>6</th>\n",
       "      <th>2</th>\n",
       "      <td>2148.384450</td>\n",
       "      <td>2192.936436</td>\n",
       "    </tr>\n",
       "    <tr>\n",
       "      <th>2</th>\n",
       "      <th>6</th>\n",
       "      <td>2148.415865</td>\n",
       "      <td>2192.967851</td>\n",
       "    </tr>\n",
       "    <tr>\n",
       "      <th>5</th>\n",
       "      <th>4</th>\n",
       "      <td>2144.756765</td>\n",
       "      <td>2193.763950</td>\n",
       "    </tr>\n",
       "    <tr>\n",
       "      <th>3</th>\n",
       "      <th>6</th>\n",
       "      <td>2145.506328</td>\n",
       "      <td>2194.513512</td>\n",
       "    </tr>\n",
       "    <tr>\n",
       "      <th>4</th>\n",
       "      <th>5</th>\n",
       "      <td>2145.992021</td>\n",
       "      <td>2194.999205</td>\n",
       "    </tr>\n",
       "    <tr>\n",
       "      <th>1</th>\n",
       "      <th>6</th>\n",
       "      <td>2156.349985</td>\n",
       "      <td>2196.446772</td>\n",
       "    </tr>\n",
       "    <tr>\n",
       "      <th>4</th>\n",
       "      <th>4</th>\n",
       "      <td>2153.734643</td>\n",
       "      <td>2198.286629</td>\n",
       "    </tr>\n",
       "    <tr>\n",
       "      <th>5</th>\n",
       "      <th>3</th>\n",
       "      <td>2153.971427</td>\n",
       "      <td>2198.523412</td>\n",
       "    </tr>\n",
       "    <tr>\n",
       "      <th>4</th>\n",
       "      <th>6</th>\n",
       "      <td>2147.552703</td>\n",
       "      <td>2201.015086</td>\n",
       "    </tr>\n",
       "    <tr>\n",
       "      <th>0</th>\n",
       "      <th>0</th>\n",
       "      <td>2192.211026</td>\n",
       "      <td>2201.121423</td>\n",
       "    </tr>\n",
       "    <tr>\n",
       "      <th>5</th>\n",
       "      <th>5</th>\n",
       "      <td>2148.679584</td>\n",
       "      <td>2202.141967</td>\n",
       "    </tr>\n",
       "    <tr>\n",
       "      <th rowspan=\"4\" valign=\"top\">6</th>\n",
       "      <th>4</th>\n",
       "      <td>2149.206347</td>\n",
       "      <td>2202.668730</td>\n",
       "    </tr>\n",
       "    <tr>\n",
       "      <th>3</th>\n",
       "      <td>2154.637239</td>\n",
       "      <td>2203.644423</td>\n",
       "    </tr>\n",
       "    <tr>\n",
       "      <th>6</th>\n",
       "      <td>2143.934470</td>\n",
       "      <td>2206.307250</td>\n",
       "    </tr>\n",
       "    <tr>\n",
       "      <th>5</th>\n",
       "      <td>2149.580694</td>\n",
       "      <td>2207.498275</td>\n",
       "    </tr>\n",
       "    <tr>\n",
       "      <th>5</th>\n",
       "      <th>6</th>\n",
       "      <td>2149.597844</td>\n",
       "      <td>2207.515425</td>\n",
       "    </tr>\n",
       "  </tbody>\n",
       "</table>\n",
       "</div>"
      ],
      "text/plain": [
       "               AIC          BIC\n",
       "AR MA                          \n",
       "1  0   2158.014331  2171.379927\n",
       "0  2   2155.009098  2172.829892\n",
       "2  0   2157.164939  2174.985733\n",
       "1  1   2158.251785  2176.072579\n",
       "3  2   2145.328833  2176.515223\n",
       "2  3   2146.079554  2177.265944\n",
       "0  1   2164.046743  2177.412338\n",
       "3  1   2150.802632  2177.533823\n",
       "   0   2156.740517  2179.016510\n",
       "0  3   2157.002253  2179.278246\n",
       "1  2   2157.003675  2179.279668\n",
       "2  1   2158.566435  2180.842428\n",
       "1  3   2154.363518  2181.094709\n",
       "3  3   2146.848439  2182.490027\n",
       "4  1   2152.628397  2183.814787\n",
       "   0   2157.900999  2184.632191\n",
       "   2   2149.921496  2185.563085\n",
       "0  4   2158.847284  2185.578476\n",
       "2  2   2158.930100  2185.661291\n",
       "1  4   2155.262284  2186.448674\n",
       "3  4   2146.425088  2186.521875\n",
       "2  5   2146.487787  2186.584574\n",
       "4  3   2148.448386  2188.545173\n",
       "5  1   2153.482274  2189.123862\n",
       "2  4   2153.829993  2189.471581\n",
       "3  5   2145.310827  2189.862813\n",
       "5  0   2159.501590  2190.687980\n",
       "0  5   2160.710769  2191.897159\n",
       "1  5   2156.460774  2192.102362\n",
       "6  1   2152.088728  2192.185516\n",
       "   0   2156.882457  2192.524045\n",
       "0  6   2157.027256  2192.668845\n",
       "5  2   2152.805032  2192.901819\n",
       "6  2   2148.384450  2192.936436\n",
       "2  6   2148.415865  2192.967851\n",
       "5  4   2144.756765  2193.763950\n",
       "3  6   2145.506328  2194.513512\n",
       "4  5   2145.992021  2194.999205\n",
       "1  6   2156.349985  2196.446772\n",
       "4  4   2153.734643  2198.286629\n",
       "5  3   2153.971427  2198.523412\n",
       "4  6   2147.552703  2201.015086\n",
       "0  0   2192.211026  2201.121423\n",
       "5  5   2148.679584  2202.141967\n",
       "6  4   2149.206347  2202.668730\n",
       "   3   2154.637239  2203.644423\n",
       "   6   2143.934470  2206.307250\n",
       "   5   2149.580694  2207.498275\n",
       "5  6   2149.597844  2207.515425"
      ]
     },
     "execution_count": 22,
     "metadata": {},
     "output_type": "execute_result"
    }
   ],
   "source": [
    "ic.sort_values('BIC', ascending = True)"
   ]
  },
  {
   "cell_type": "markdown",
   "id": "bb12aaac-f73b-4254-a313-1afc329e7a55",
   "metadata": {},
   "source": [
    "el BIC me sugiere un ARMA(1,0)"
   ]
  },
  {
   "cell_type": "markdown",
   "id": "5c37f51f-da0a-49ba-bcee-c7a56c701909",
   "metadata": {},
   "source": [
    "veamos que me sugiere el criterio de Akaike (AIC)"
   ]
  },
  {
   "cell_type": "code",
   "execution_count": 23,
   "id": "3dba8951-2c69-48e2-9862-92b633647e10",
   "metadata": {},
   "outputs": [
    {
     "data": {
      "text/html": [
       "<div>\n",
       "<style scoped>\n",
       "    .dataframe tbody tr th:only-of-type {\n",
       "        vertical-align: middle;\n",
       "    }\n",
       "\n",
       "    .dataframe tbody tr th {\n",
       "        vertical-align: top;\n",
       "    }\n",
       "\n",
       "    .dataframe thead th {\n",
       "        text-align: right;\n",
       "    }\n",
       "</style>\n",
       "<table border=\"1\" class=\"dataframe\">\n",
       "  <thead>\n",
       "    <tr style=\"text-align: right;\">\n",
       "      <th></th>\n",
       "      <th></th>\n",
       "      <th>AIC</th>\n",
       "      <th>BIC</th>\n",
       "    </tr>\n",
       "    <tr>\n",
       "      <th>AR</th>\n",
       "      <th>MA</th>\n",
       "      <th></th>\n",
       "      <th></th>\n",
       "    </tr>\n",
       "  </thead>\n",
       "  <tbody>\n",
       "    <tr>\n",
       "      <th>6</th>\n",
       "      <th>6</th>\n",
       "      <td>2143.934470</td>\n",
       "      <td>2206.307250</td>\n",
       "    </tr>\n",
       "    <tr>\n",
       "      <th>5</th>\n",
       "      <th>4</th>\n",
       "      <td>2144.756765</td>\n",
       "      <td>2193.763950</td>\n",
       "    </tr>\n",
       "    <tr>\n",
       "      <th rowspan=\"3\" valign=\"top\">3</th>\n",
       "      <th>5</th>\n",
       "      <td>2145.310827</td>\n",
       "      <td>2189.862813</td>\n",
       "    </tr>\n",
       "    <tr>\n",
       "      <th>2</th>\n",
       "      <td>2145.328833</td>\n",
       "      <td>2176.515223</td>\n",
       "    </tr>\n",
       "    <tr>\n",
       "      <th>6</th>\n",
       "      <td>2145.506328</td>\n",
       "      <td>2194.513512</td>\n",
       "    </tr>\n",
       "    <tr>\n",
       "      <th>4</th>\n",
       "      <th>5</th>\n",
       "      <td>2145.992021</td>\n",
       "      <td>2194.999205</td>\n",
       "    </tr>\n",
       "    <tr>\n",
       "      <th>2</th>\n",
       "      <th>3</th>\n",
       "      <td>2146.079554</td>\n",
       "      <td>2177.265944</td>\n",
       "    </tr>\n",
       "    <tr>\n",
       "      <th>3</th>\n",
       "      <th>4</th>\n",
       "      <td>2146.425088</td>\n",
       "      <td>2186.521875</td>\n",
       "    </tr>\n",
       "    <tr>\n",
       "      <th>2</th>\n",
       "      <th>5</th>\n",
       "      <td>2146.487787</td>\n",
       "      <td>2186.584574</td>\n",
       "    </tr>\n",
       "    <tr>\n",
       "      <th>3</th>\n",
       "      <th>3</th>\n",
       "      <td>2146.848439</td>\n",
       "      <td>2182.490027</td>\n",
       "    </tr>\n",
       "    <tr>\n",
       "      <th>4</th>\n",
       "      <th>6</th>\n",
       "      <td>2147.552703</td>\n",
       "      <td>2201.015086</td>\n",
       "    </tr>\n",
       "    <tr>\n",
       "      <th>6</th>\n",
       "      <th>2</th>\n",
       "      <td>2148.384450</td>\n",
       "      <td>2192.936436</td>\n",
       "    </tr>\n",
       "    <tr>\n",
       "      <th>2</th>\n",
       "      <th>6</th>\n",
       "      <td>2148.415865</td>\n",
       "      <td>2192.967851</td>\n",
       "    </tr>\n",
       "    <tr>\n",
       "      <th>4</th>\n",
       "      <th>3</th>\n",
       "      <td>2148.448386</td>\n",
       "      <td>2188.545173</td>\n",
       "    </tr>\n",
       "    <tr>\n",
       "      <th>5</th>\n",
       "      <th>5</th>\n",
       "      <td>2148.679584</td>\n",
       "      <td>2202.141967</td>\n",
       "    </tr>\n",
       "    <tr>\n",
       "      <th rowspan=\"2\" valign=\"top\">6</th>\n",
       "      <th>4</th>\n",
       "      <td>2149.206347</td>\n",
       "      <td>2202.668730</td>\n",
       "    </tr>\n",
       "    <tr>\n",
       "      <th>5</th>\n",
       "      <td>2149.580694</td>\n",
       "      <td>2207.498275</td>\n",
       "    </tr>\n",
       "    <tr>\n",
       "      <th>5</th>\n",
       "      <th>6</th>\n",
       "      <td>2149.597844</td>\n",
       "      <td>2207.515425</td>\n",
       "    </tr>\n",
       "    <tr>\n",
       "      <th>4</th>\n",
       "      <th>2</th>\n",
       "      <td>2149.921496</td>\n",
       "      <td>2185.563085</td>\n",
       "    </tr>\n",
       "    <tr>\n",
       "      <th>3</th>\n",
       "      <th>1</th>\n",
       "      <td>2150.802632</td>\n",
       "      <td>2177.533823</td>\n",
       "    </tr>\n",
       "    <tr>\n",
       "      <th>6</th>\n",
       "      <th>1</th>\n",
       "      <td>2152.088728</td>\n",
       "      <td>2192.185516</td>\n",
       "    </tr>\n",
       "    <tr>\n",
       "      <th>4</th>\n",
       "      <th>1</th>\n",
       "      <td>2152.628397</td>\n",
       "      <td>2183.814787</td>\n",
       "    </tr>\n",
       "    <tr>\n",
       "      <th rowspan=\"2\" valign=\"top\">5</th>\n",
       "      <th>2</th>\n",
       "      <td>2152.805032</td>\n",
       "      <td>2192.901819</td>\n",
       "    </tr>\n",
       "    <tr>\n",
       "      <th>1</th>\n",
       "      <td>2153.482274</td>\n",
       "      <td>2189.123862</td>\n",
       "    </tr>\n",
       "    <tr>\n",
       "      <th>4</th>\n",
       "      <th>4</th>\n",
       "      <td>2153.734643</td>\n",
       "      <td>2198.286629</td>\n",
       "    </tr>\n",
       "    <tr>\n",
       "      <th>2</th>\n",
       "      <th>4</th>\n",
       "      <td>2153.829993</td>\n",
       "      <td>2189.471581</td>\n",
       "    </tr>\n",
       "    <tr>\n",
       "      <th>5</th>\n",
       "      <th>3</th>\n",
       "      <td>2153.971427</td>\n",
       "      <td>2198.523412</td>\n",
       "    </tr>\n",
       "    <tr>\n",
       "      <th>1</th>\n",
       "      <th>3</th>\n",
       "      <td>2154.363518</td>\n",
       "      <td>2181.094709</td>\n",
       "    </tr>\n",
       "    <tr>\n",
       "      <th>6</th>\n",
       "      <th>3</th>\n",
       "      <td>2154.637239</td>\n",
       "      <td>2203.644423</td>\n",
       "    </tr>\n",
       "    <tr>\n",
       "      <th>0</th>\n",
       "      <th>2</th>\n",
       "      <td>2155.009098</td>\n",
       "      <td>2172.829892</td>\n",
       "    </tr>\n",
       "    <tr>\n",
       "      <th rowspan=\"3\" valign=\"top\">1</th>\n",
       "      <th>4</th>\n",
       "      <td>2155.262284</td>\n",
       "      <td>2186.448674</td>\n",
       "    </tr>\n",
       "    <tr>\n",
       "      <th>6</th>\n",
       "      <td>2156.349985</td>\n",
       "      <td>2196.446772</td>\n",
       "    </tr>\n",
       "    <tr>\n",
       "      <th>5</th>\n",
       "      <td>2156.460774</td>\n",
       "      <td>2192.102362</td>\n",
       "    </tr>\n",
       "    <tr>\n",
       "      <th>3</th>\n",
       "      <th>0</th>\n",
       "      <td>2156.740517</td>\n",
       "      <td>2179.016510</td>\n",
       "    </tr>\n",
       "    <tr>\n",
       "      <th>6</th>\n",
       "      <th>0</th>\n",
       "      <td>2156.882457</td>\n",
       "      <td>2192.524045</td>\n",
       "    </tr>\n",
       "    <tr>\n",
       "      <th>0</th>\n",
       "      <th>3</th>\n",
       "      <td>2157.002253</td>\n",
       "      <td>2179.278246</td>\n",
       "    </tr>\n",
       "    <tr>\n",
       "      <th>1</th>\n",
       "      <th>2</th>\n",
       "      <td>2157.003675</td>\n",
       "      <td>2179.279668</td>\n",
       "    </tr>\n",
       "    <tr>\n",
       "      <th>0</th>\n",
       "      <th>6</th>\n",
       "      <td>2157.027256</td>\n",
       "      <td>2192.668845</td>\n",
       "    </tr>\n",
       "    <tr>\n",
       "      <th>2</th>\n",
       "      <th>0</th>\n",
       "      <td>2157.164939</td>\n",
       "      <td>2174.985733</td>\n",
       "    </tr>\n",
       "    <tr>\n",
       "      <th>4</th>\n",
       "      <th>0</th>\n",
       "      <td>2157.900999</td>\n",
       "      <td>2184.632191</td>\n",
       "    </tr>\n",
       "    <tr>\n",
       "      <th rowspan=\"2\" valign=\"top\">1</th>\n",
       "      <th>0</th>\n",
       "      <td>2158.014331</td>\n",
       "      <td>2171.379927</td>\n",
       "    </tr>\n",
       "    <tr>\n",
       "      <th>1</th>\n",
       "      <td>2158.251785</td>\n",
       "      <td>2176.072579</td>\n",
       "    </tr>\n",
       "    <tr>\n",
       "      <th>2</th>\n",
       "      <th>1</th>\n",
       "      <td>2158.566435</td>\n",
       "      <td>2180.842428</td>\n",
       "    </tr>\n",
       "    <tr>\n",
       "      <th>0</th>\n",
       "      <th>4</th>\n",
       "      <td>2158.847284</td>\n",
       "      <td>2185.578476</td>\n",
       "    </tr>\n",
       "    <tr>\n",
       "      <th>2</th>\n",
       "      <th>2</th>\n",
       "      <td>2158.930100</td>\n",
       "      <td>2185.661291</td>\n",
       "    </tr>\n",
       "    <tr>\n",
       "      <th>5</th>\n",
       "      <th>0</th>\n",
       "      <td>2159.501590</td>\n",
       "      <td>2190.687980</td>\n",
       "    </tr>\n",
       "    <tr>\n",
       "      <th rowspan=\"3\" valign=\"top\">0</th>\n",
       "      <th>5</th>\n",
       "      <td>2160.710769</td>\n",
       "      <td>2191.897159</td>\n",
       "    </tr>\n",
       "    <tr>\n",
       "      <th>1</th>\n",
       "      <td>2164.046743</td>\n",
       "      <td>2177.412338</td>\n",
       "    </tr>\n",
       "    <tr>\n",
       "      <th>0</th>\n",
       "      <td>2192.211026</td>\n",
       "      <td>2201.121423</td>\n",
       "    </tr>\n",
       "  </tbody>\n",
       "</table>\n",
       "</div>"
      ],
      "text/plain": [
       "               AIC          BIC\n",
       "AR MA                          \n",
       "6  6   2143.934470  2206.307250\n",
       "5  4   2144.756765  2193.763950\n",
       "3  5   2145.310827  2189.862813\n",
       "   2   2145.328833  2176.515223\n",
       "   6   2145.506328  2194.513512\n",
       "4  5   2145.992021  2194.999205\n",
       "2  3   2146.079554  2177.265944\n",
       "3  4   2146.425088  2186.521875\n",
       "2  5   2146.487787  2186.584574\n",
       "3  3   2146.848439  2182.490027\n",
       "4  6   2147.552703  2201.015086\n",
       "6  2   2148.384450  2192.936436\n",
       "2  6   2148.415865  2192.967851\n",
       "4  3   2148.448386  2188.545173\n",
       "5  5   2148.679584  2202.141967\n",
       "6  4   2149.206347  2202.668730\n",
       "   5   2149.580694  2207.498275\n",
       "5  6   2149.597844  2207.515425\n",
       "4  2   2149.921496  2185.563085\n",
       "3  1   2150.802632  2177.533823\n",
       "6  1   2152.088728  2192.185516\n",
       "4  1   2152.628397  2183.814787\n",
       "5  2   2152.805032  2192.901819\n",
       "   1   2153.482274  2189.123862\n",
       "4  4   2153.734643  2198.286629\n",
       "2  4   2153.829993  2189.471581\n",
       "5  3   2153.971427  2198.523412\n",
       "1  3   2154.363518  2181.094709\n",
       "6  3   2154.637239  2203.644423\n",
       "0  2   2155.009098  2172.829892\n",
       "1  4   2155.262284  2186.448674\n",
       "   6   2156.349985  2196.446772\n",
       "   5   2156.460774  2192.102362\n",
       "3  0   2156.740517  2179.016510\n",
       "6  0   2156.882457  2192.524045\n",
       "0  3   2157.002253  2179.278246\n",
       "1  2   2157.003675  2179.279668\n",
       "0  6   2157.027256  2192.668845\n",
       "2  0   2157.164939  2174.985733\n",
       "4  0   2157.900999  2184.632191\n",
       "1  0   2158.014331  2171.379927\n",
       "   1   2158.251785  2176.072579\n",
       "2  1   2158.566435  2180.842428\n",
       "0  4   2158.847284  2185.578476\n",
       "2  2   2158.930100  2185.661291\n",
       "5  0   2159.501590  2190.687980\n",
       "0  5   2160.710769  2191.897159\n",
       "   1   2164.046743  2177.412338\n",
       "   0   2192.211026  2201.121423"
      ]
     },
     "execution_count": 23,
     "metadata": {},
     "output_type": "execute_result"
    }
   ],
   "source": [
    "ic.sort_values('AIC', ascending = True)"
   ]
  },
  {
   "cell_type": "markdown",
   "id": "cdee3b44-7825-4ba8-beac-781f13b335b8",
   "metadata": {},
   "source": [
    "criterio de AIC me sugiere ARMA (6,6)"
   ]
  },
  {
   "cell_type": "code",
   "execution_count": 39,
   "id": "1b0299ab-02a4-436c-b656-1d9179d82d80",
   "metadata": {
    "tags": []
   },
   "outputs": [
    {
     "name": "stderr",
     "output_type": "stream",
     "text": [
      "C:\\Users\\aaron\\anaconda3\\lib\\site-packages\\statsmodels\\tsa\\statespace\\sarimax.py:966: UserWarning: Non-stationary starting autoregressive parameters found. Using zeros as starting parameters.\n",
      "  warn('Non-stationary starting autoregressive parameters'\n",
      "C:\\Users\\aaron\\anaconda3\\lib\\site-packages\\statsmodels\\tsa\\statespace\\sarimax.py:978: UserWarning: Non-invertible starting MA parameters found. Using zeros as starting parameters.\n",
      "  warn('Non-invertible starting MA parameters found.'\n"
     ]
    },
    {
     "data": {
      "text/html": [
       "<table class=\"simpletable\">\n",
       "<caption>SARIMAX Results</caption>\n",
       "<tr>\n",
       "  <th>Dep. Variable:</th>       <td>adj_close</td>    <th>  No. Observations:  </th>    <td>636</td>   \n",
       "</tr>\n",
       "<tr>\n",
       "  <th>Model:</th>            <td>ARIMA(3, 0, 2)</td>  <th>  Log Likelihood     </th> <td>-1065.664</td>\n",
       "</tr>\n",
       "<tr>\n",
       "  <th>Date:</th>            <td>Sun, 13 Mar 2022</td> <th>  AIC                </th> <td>2145.329</td> \n",
       "</tr>\n",
       "<tr>\n",
       "  <th>Time:</th>                <td>22:08:36</td>     <th>  BIC                </th> <td>2176.515</td> \n",
       "</tr>\n",
       "<tr>\n",
       "  <th>Sample:</th>                  <td>0</td>        <th>  HQIC               </th> <td>2157.437</td> \n",
       "</tr>\n",
       "<tr>\n",
       "  <th></th>                      <td> - 636</td>      <th>                     </th>     <td> </td>    \n",
       "</tr>\n",
       "<tr>\n",
       "  <th>Covariance Type:</th>        <td>opg</td>       <th>                     </th>     <td> </td>    \n",
       "</tr>\n",
       "</table>\n",
       "<table class=\"simpletable\">\n",
       "<tr>\n",
       "     <td></td>       <th>coef</th>     <th>std err</th>      <th>z</th>      <th>P>|z|</th>  <th>[0.025</th>    <th>0.975]</th>  \n",
       "</tr>\n",
       "<tr>\n",
       "  <th>const</th>  <td>    0.0024</td> <td>    0.047</td> <td>    0.051</td> <td> 0.959</td> <td>   -0.090</td> <td>    0.095</td>\n",
       "</tr>\n",
       "<tr>\n",
       "  <th>ar.L1</th>  <td>   -1.9133</td> <td>    0.073</td> <td>  -26.180</td> <td> 0.000</td> <td>   -2.056</td> <td>   -1.770</td>\n",
       "</tr>\n",
       "<tr>\n",
       "  <th>ar.L2</th>  <td>   -1.1540</td> <td>    0.101</td> <td>  -11.435</td> <td> 0.000</td> <td>   -1.352</td> <td>   -0.956</td>\n",
       "</tr>\n",
       "<tr>\n",
       "  <th>ar.L3</th>  <td>   -0.1236</td> <td>    0.040</td> <td>   -3.130</td> <td> 0.002</td> <td>   -0.201</td> <td>   -0.046</td>\n",
       "</tr>\n",
       "<tr>\n",
       "  <th>ma.L1</th>  <td>    1.7157</td> <td>    0.066</td> <td>   25.817</td> <td> 0.000</td> <td>    1.585</td> <td>    1.846</td>\n",
       "</tr>\n",
       "<tr>\n",
       "  <th>ma.L2</th>  <td>    0.8346</td> <td>    0.061</td> <td>   13.634</td> <td> 0.000</td> <td>    0.715</td> <td>    0.955</td>\n",
       "</tr>\n",
       "<tr>\n",
       "  <th>sigma2</th> <td>    1.6699</td> <td>    0.044</td> <td>   37.872</td> <td> 0.000</td> <td>    1.583</td> <td>    1.756</td>\n",
       "</tr>\n",
       "</table>\n",
       "<table class=\"simpletable\">\n",
       "<tr>\n",
       "  <th>Ljung-Box (L1) (Q):</th>     <td>0.02</td> <th>  Jarque-Bera (JB):  </th> <td>2441.90</td>\n",
       "</tr>\n",
       "<tr>\n",
       "  <th>Prob(Q):</th>                <td>0.90</td> <th>  Prob(JB):          </th>  <td>0.00</td>  \n",
       "</tr>\n",
       "<tr>\n",
       "  <th>Heteroskedasticity (H):</th> <td>0.37</td> <th>  Skew:              </th>  <td>-1.07</td> \n",
       "</tr>\n",
       "<tr>\n",
       "  <th>Prob(H) (two-sided):</th>    <td>0.00</td> <th>  Kurtosis:          </th>  <td>12.36</td> \n",
       "</tr>\n",
       "</table><br/><br/>Warnings:<br/>[1] Covariance matrix calculated using the outer product of gradients (complex-step)."
      ],
      "text/plain": [
       "<class 'statsmodels.iolib.summary.Summary'>\n",
       "\"\"\"\n",
       "                               SARIMAX Results                                \n",
       "==============================================================================\n",
       "Dep. Variable:              adj_close   No. Observations:                  636\n",
       "Model:                 ARIMA(3, 0, 2)   Log Likelihood               -1065.664\n",
       "Date:                Sun, 13 Mar 2022   AIC                           2145.329\n",
       "Time:                        22:08:36   BIC                           2176.515\n",
       "Sample:                             0   HQIC                          2157.437\n",
       "                                - 636                                         \n",
       "Covariance Type:                  opg                                         \n",
       "==============================================================================\n",
       "                 coef    std err          z      P>|z|      [0.025      0.975]\n",
       "------------------------------------------------------------------------------\n",
       "const          0.0024      0.047      0.051      0.959      -0.090       0.095\n",
       "ar.L1         -1.9133      0.073    -26.180      0.000      -2.056      -1.770\n",
       "ar.L2         -1.1540      0.101    -11.435      0.000      -1.352      -0.956\n",
       "ar.L3         -0.1236      0.040     -3.130      0.002      -0.201      -0.046\n",
       "ma.L1          1.7157      0.066     25.817      0.000       1.585       1.846\n",
       "ma.L2          0.8346      0.061     13.634      0.000       0.715       0.955\n",
       "sigma2         1.6699      0.044     37.872      0.000       1.583       1.756\n",
       "===================================================================================\n",
       "Ljung-Box (L1) (Q):                   0.02   Jarque-Bera (JB):              2441.90\n",
       "Prob(Q):                              0.90   Prob(JB):                         0.00\n",
       "Heteroskedasticity (H):               0.37   Skew:                            -1.07\n",
       "Prob(H) (two-sided):                  0.00   Kurtosis:                        12.36\n",
       "===================================================================================\n",
       "\n",
       "Warnings:\n",
       "[1] Covariance matrix calculated using the outer product of gradients (complex-step).\n",
       "\"\"\""
      ]
     },
     "execution_count": 39,
     "metadata": {},
     "output_type": "execute_result"
    }
   ],
   "source": [
    "# estimamos un ARMA (1,0)\n",
    "modelo = ARIMA(intel_diff, order=(3, 0, 2))\n",
    "resultado = modelo.fit()\n",
    "resultado.summary()"
   ]
  },
  {
   "cell_type": "markdown",
   "id": "b7266ed8-1a41-40b2-855b-6024e3f42bd5",
   "metadata": {},
   "source": [
    "En realidad, en este caso, como diferenciamos una vez la serie de tiempo estacionaria para hacerla estacionaria, nuestro modelo ARMA (3,2), es un ARIMA(3,1,2) de la serie original"
   ]
  },
  {
   "cell_type": "code",
   "execution_count": 40,
   "id": "efebd326-8a1f-43cb-944a-d40f633666b9",
   "metadata": {},
   "outputs": [
    {
     "name": "stderr",
     "output_type": "stream",
     "text": [
      "C:\\Users\\aaron\\anaconda3\\lib\\site-packages\\statsmodels\\tsa\\base\\tsa_model.py:581: ValueWarning: A date index has been provided, but it has no associated frequency information and so will be ignored when e.g. forecasting.\n",
      "  warnings.warn('A date index has been provided, but it has no'\n",
      "C:\\Users\\aaron\\anaconda3\\lib\\site-packages\\statsmodels\\tsa\\base\\tsa_model.py:581: ValueWarning: A date index has been provided, but it has no associated frequency information and so will be ignored when e.g. forecasting.\n",
      "  warnings.warn('A date index has been provided, but it has no'\n",
      "C:\\Users\\aaron\\anaconda3\\lib\\site-packages\\statsmodels\\tsa\\base\\tsa_model.py:581: ValueWarning: A date index has been provided, but it has no associated frequency information and so will be ignored when e.g. forecasting.\n",
      "  warnings.warn('A date index has been provided, but it has no'\n",
      "C:\\Users\\aaron\\anaconda3\\lib\\site-packages\\statsmodels\\tsa\\statespace\\sarimax.py:966: UserWarning: Non-stationary starting autoregressive parameters found. Using zeros as starting parameters.\n",
      "  warn('Non-stationary starting autoregressive parameters'\n",
      "C:\\Users\\aaron\\anaconda3\\lib\\site-packages\\statsmodels\\tsa\\statespace\\sarimax.py:978: UserWarning: Non-invertible starting MA parameters found. Using zeros as starting parameters.\n",
      "  warn('Non-invertible starting MA parameters found.'\n"
     ]
    },
    {
     "data": {
      "text/html": [
       "<table class=\"simpletable\">\n",
       "<caption>SARIMAX Results</caption>\n",
       "<tr>\n",
       "  <th>Dep. Variable:</th>       <td>adj_close</td>    <th>  No. Observations:  </th>    <td>637</td>   \n",
       "</tr>\n",
       "<tr>\n",
       "  <th>Model:</th>            <td>ARIMA(3, 1, 2)</td>  <th>  Log Likelihood     </th> <td>-1065.666</td>\n",
       "</tr>\n",
       "<tr>\n",
       "  <th>Date:</th>            <td>Sun, 13 Mar 2022</td> <th>  AIC                </th> <td>2143.332</td> \n",
       "</tr>\n",
       "<tr>\n",
       "  <th>Time:</th>                <td>22:08:45</td>     <th>  BIC                </th> <td>2170.063</td> \n",
       "</tr>\n",
       "<tr>\n",
       "  <th>Sample:</th>                  <td>0</td>        <th>  HQIC               </th> <td>2153.711</td> \n",
       "</tr>\n",
       "<tr>\n",
       "  <th></th>                      <td> - 637</td>      <th>                     </th>     <td> </td>    \n",
       "</tr>\n",
       "<tr>\n",
       "  <th>Covariance Type:</th>        <td>opg</td>       <th>                     </th>     <td> </td>    \n",
       "</tr>\n",
       "</table>\n",
       "<table class=\"simpletable\">\n",
       "<tr>\n",
       "     <td></td>       <th>coef</th>     <th>std err</th>      <th>z</th>      <th>P>|z|</th>  <th>[0.025</th>    <th>0.975]</th>  \n",
       "</tr>\n",
       "<tr>\n",
       "  <th>ar.L1</th>  <td>   -1.9133</td> <td>    0.072</td> <td>  -26.710</td> <td> 0.000</td> <td>   -2.054</td> <td>   -1.773</td>\n",
       "</tr>\n",
       "<tr>\n",
       "  <th>ar.L2</th>  <td>   -1.1541</td> <td>    0.099</td> <td>  -11.689</td> <td> 0.000</td> <td>   -1.348</td> <td>   -0.961</td>\n",
       "</tr>\n",
       "<tr>\n",
       "  <th>ar.L3</th>  <td>   -0.1237</td> <td>    0.039</td> <td>   -3.188</td> <td> 0.001</td> <td>   -0.200</td> <td>   -0.048</td>\n",
       "</tr>\n",
       "<tr>\n",
       "  <th>ma.L1</th>  <td>    1.7158</td> <td>    0.065</td> <td>   26.199</td> <td> 0.000</td> <td>    1.587</td> <td>    1.844</td>\n",
       "</tr>\n",
       "<tr>\n",
       "  <th>ma.L2</th>  <td>    0.8346</td> <td>    0.060</td> <td>   13.882</td> <td> 0.000</td> <td>    0.717</td> <td>    0.952</td>\n",
       "</tr>\n",
       "<tr>\n",
       "  <th>sigma2</th> <td>    1.6699</td> <td>    0.042</td> <td>   40.037</td> <td> 0.000</td> <td>    1.588</td> <td>    1.752</td>\n",
       "</tr>\n",
       "</table>\n",
       "<table class=\"simpletable\">\n",
       "<tr>\n",
       "  <th>Ljung-Box (L1) (Q):</th>     <td>0.02</td> <th>  Jarque-Bera (JB):  </th> <td>2441.94</td>\n",
       "</tr>\n",
       "<tr>\n",
       "  <th>Prob(Q):</th>                <td>0.90</td> <th>  Prob(JB):          </th>  <td>0.00</td>  \n",
       "</tr>\n",
       "<tr>\n",
       "  <th>Heteroskedasticity (H):</th> <td>0.37</td> <th>  Skew:              </th>  <td>-1.07</td> \n",
       "</tr>\n",
       "<tr>\n",
       "  <th>Prob(H) (two-sided):</th>    <td>0.00</td> <th>  Kurtosis:          </th>  <td>12.36</td> \n",
       "</tr>\n",
       "</table><br/><br/>Warnings:<br/>[1] Covariance matrix calculated using the outer product of gradients (complex-step)."
      ],
      "text/plain": [
       "<class 'statsmodels.iolib.summary.Summary'>\n",
       "\"\"\"\n",
       "                               SARIMAX Results                                \n",
       "==============================================================================\n",
       "Dep. Variable:              adj_close   No. Observations:                  637\n",
       "Model:                 ARIMA(3, 1, 2)   Log Likelihood               -1065.666\n",
       "Date:                Sun, 13 Mar 2022   AIC                           2143.332\n",
       "Time:                        22:08:45   BIC                           2170.063\n",
       "Sample:                             0   HQIC                          2153.711\n",
       "                                - 637                                         \n",
       "Covariance Type:                  opg                                         \n",
       "==============================================================================\n",
       "                 coef    std err          z      P>|z|      [0.025      0.975]\n",
       "------------------------------------------------------------------------------\n",
       "ar.L1         -1.9133      0.072    -26.710      0.000      -2.054      -1.773\n",
       "ar.L2         -1.1541      0.099    -11.689      0.000      -1.348      -0.961\n",
       "ar.L3         -0.1237      0.039     -3.188      0.001      -0.200      -0.048\n",
       "ma.L1          1.7158      0.065     26.199      0.000       1.587       1.844\n",
       "ma.L2          0.8346      0.060     13.882      0.000       0.717       0.952\n",
       "sigma2         1.6699      0.042     40.037      0.000       1.588       1.752\n",
       "===================================================================================\n",
       "Ljung-Box (L1) (Q):                   0.02   Jarque-Bera (JB):              2441.94\n",
       "Prob(Q):                              0.90   Prob(JB):                         0.00\n",
       "Heteroskedasticity (H):               0.37   Skew:                            -1.07\n",
       "Prob(H) (two-sided):                  0.00   Kurtosis:                        12.36\n",
       "===================================================================================\n",
       "\n",
       "Warnings:\n",
       "[1] Covariance matrix calculated using the outer product of gradients (complex-step).\n",
       "\"\"\""
      ]
     },
     "execution_count": 40,
     "metadata": {},
     "output_type": "execute_result"
    }
   ],
   "source": [
    "# estimamos un ARIMA (1,1)\n",
    "modelo2 = ARIMA(intel['adj_close'], order=(3, 1, 2))\n",
    "resultado2 = modelo2.fit()\n",
    "resultado2.summary()"
   ]
  },
  {
   "cell_type": "code",
   "execution_count": 41,
   "id": "2104b093-3091-4bbe-a125-74bf4d2f8102",
   "metadata": {},
   "outputs": [
    {
     "name": "stderr",
     "output_type": "stream",
     "text": [
      "C:\\Users\\aaron\\AppData\\Local\\Temp/ipykernel_1316/2224004565.py:3: SettingWithCopyWarning: \n",
      "A value is trying to be set on a copy of a slice from a DataFrame\n",
      "\n",
      "See the caveats in the documentation: https://pandas.pydata.org/pandas-docs/stable/user_guide/indexing.html#returning-a-view-versus-a-copy\n",
      "  intel['pronostico'][0] = intel['adj_close'][0]\n"
     ]
    }
   ],
   "source": [
    "# vamos a estimar la serie con el modelo ARIMA\n",
    "intel['pronostico'] = resultado2.predict()\n",
    "intel['pronostico'][0] = intel['adj_close'][0]"
   ]
  },
  {
   "cell_type": "markdown",
   "id": "627b25d7-a2b8-4b4d-b3d7-e7cf91875ae1",
   "metadata": {},
   "source": [
    "graficamos la y_estimada con la y_original"
   ]
  },
  {
   "cell_type": "code",
   "execution_count": 42,
   "id": "d4977b8a-35a1-4f1f-9093-e18848fa24b3",
   "metadata": {},
   "outputs": [
    {
     "data": {
      "image/png": "[encoded data removed]",
      "text/plain": [
       "<Figure size 720x540 with 1 Axes>"
      ]
     },
     "metadata": {
      "needs_background": "light"
     },
     "output_type": "display_data"
    }
   ],
   "source": [
    "intel[['adj_close', 'pronostico']].plot()\n",
    "plt.show()"
   ]
  },
  {
   "cell_type": "code",
   "execution_count": 31,
   "id": "7c0c4714-ccd7-4a1f-be0d-f6cb888bf2f7",
   "metadata": {},
   "outputs": [
    {
     "data": {
      "text/plain": [
       "637"
      ]
     },
     "execution_count": 31,
     "metadata": {},
     "output_type": "execute_result"
    }
   ],
   "source": [
    "#calculamos cuantas observaciones tenemos para hacer nuestra predicción\n",
    "len(intel)"
   ]
  },
  {
   "cell_type": "markdown",
   "id": "d7fa0880-e14e-4b75-91f0-29cb033ffb41",
   "metadata": {},
   "source": [
    "la función len nos arrojo que tenemos 637 observaciones,  quiere decir que el lunes sería la observación 638, el martes la 639, y el miércoles la 640"
   ]
  },
  {
   "cell_type": "code",
   "execution_count": 43,
   "id": "ea5df273-90a0-45ea-9ac8-8bdafb593264",
   "metadata": {},
   "outputs": [
    {
     "name": "stderr",
     "output_type": "stream",
     "text": [
      "C:\\Users\\aaron\\anaconda3\\lib\\site-packages\\statsmodels\\tsa\\base\\tsa_model.py:376: ValueWarning: No supported index is available. Prediction results will be given with an integer index beginning at `start`.\n",
      "  warnings.warn('No supported index is available.'\n"
     ]
    },
    {
     "data": {
      "text/plain": [
       "638    45.897618\n",
       "639    45.909929\n",
       "640    45.861329\n",
       "Name: predicted_mean, dtype: float64"
      ]
     },
     "execution_count": 43,
     "metadata": {},
     "output_type": "execute_result"
    }
   ],
   "source": [
    "## vamos a pronosticar esos días\n",
    "resultado2.predict(638, 640)"
   ]
  },
  {
   "cell_type": "markdown",
   "id": "cba6c415-c70a-4ede-86bb-003df8d470e4",
   "metadata": {},
   "source": [
    "mi pronostico para el lunes 14 de marzo es que la acción de intel tenga un precio de cierre (ajustado) de 45.897618"
   ]
  },
  {
   "cell_type": "markdown",
   "id": "17f82de6-8c65-41c1-bb30-53a12a2d3890",
   "metadata": {},
   "source": [
    "El viernes cerro en 45.83"
   ]
  },
  {
   "cell_type": "code",
   "execution_count": null,
   "id": "d035e44e-a30b-46ea-888e-758146ab6118",
   "metadata": {},
   "outputs": [],
   "source": []
  }
 ],
 "metadata": {
  "kernelspec": {
   "display_name": "Python 3 (ipykernel)",
   "language": "python",
   "name": "python3"
  },
  "language_info": {
   "codemirror_mode": {
    "name": "ipython",
    "version": 3
   },
   "file_extension": ".py",
   "mimetype": "text/x-python",
   "name": "python",
   "nbconvert_exporter": "python",
   "pygments_lexer": "ipython3",
   "version": "3.9.7"
  }
 },
 "nbformat": 4,
 "nbformat_minor": 5
}
